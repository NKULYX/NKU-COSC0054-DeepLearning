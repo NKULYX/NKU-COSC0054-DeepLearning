{
 "cells": [
  {
   "cell_type": "markdown",
   "id": "b0386667",
   "metadata": {},
   "source": [
    "# RNN Tutorial"
   ]
  },
  {
   "cell_type": "markdown",
   "id": "888043a3",
   "metadata": {},
   "source": [
    "Included in the data/names directory are 18 text files named as “[Language].txt”. Each file contains a bunch of names, one name per line, mostly romanized (but we still need to convert from Unicode to ASCII).\n",
    "\n",
    "We’ll end up with a dictionary of lists of names per language, {language: [names ...]}. The generic variables “category” and “line” (for language and name in our case) are used for later extensibility."
   ]
  },
  {
   "cell_type": "code",
   "execution_count": 51,
   "id": "b44343fa",
   "metadata": {
    "scrolled": true
   },
   "outputs": [
    {
     "name": "stdout",
     "output_type": "stream",
     "text": [
      "['./data/names\\\\Arabic.txt', './data/names\\\\Chinese.txt', './data/names\\\\Czech.txt', './data/names\\\\Dutch.txt', './data/names\\\\English.txt', './data/names\\\\French.txt', './data/names\\\\German.txt', './data/names\\\\Greek.txt', './data/names\\\\Irish.txt', './data/names\\\\Italian.txt', './data/names\\\\Japanese.txt', './data/names\\\\Korean.txt', './data/names\\\\Polish.txt', './data/names\\\\Portuguese.txt', './data/names\\\\Russian.txt', './data/names\\\\Scottish.txt', './data/names\\\\Spanish.txt', './data/names\\\\Vietnamese.txt']\n",
      "Slusarski\n"
     ]
    }
   ],
   "source": [
    "from __future__ import unicode_literals, print_function, division\n",
    "from io import open\n",
    "import glob\n",
    "import os\n",
    "\n",
    "def findFiles(path): return glob.glob(path)\n",
    "\n",
    "print(findFiles('./data/names/*.txt'))\n",
    "\n",
    "import unicodedata\n",
    "import string\n",
    "\n",
    "all_letters = string.ascii_letters + \" .,;'\"\n",
    "n_letters = len(all_letters)\n",
    "\n",
    "# Turn a Unicode string to plain ASCII, thanks to https://stackoverflow.com/a/518232/2809427\n",
    "def unicodeToAscii(s):\n",
    "    return ''.join(\n",
    "        c for c in unicodedata.normalize('NFD', s)\n",
    "        if unicodedata.category(c) != 'Mn'\n",
    "        and c in all_letters\n",
    "    )\n",
    "\n",
    "print(unicodeToAscii('Ślusàrski'))\n",
    "\n",
    "# Build the category_lines dictionary, a list of names per language\n",
    "category_lines = {}\n",
    "all_categories = []\n",
    "\n",
    "# Read a file and split into lines\n",
    "def readLines(filename):\n",
    "    lines = open(filename, encoding='utf-8').read().strip().split('\\n')\n",
    "    return [unicodeToAscii(line) for line in lines]\n",
    "\n",
    "for filename in findFiles('./data/names/*.txt'):\n",
    "    category = os.path.splitext(os.path.basename(filename))[0]\n",
    "    all_categories.append(category)\n",
    "    lines = readLines(filename)\n",
    "    category_lines[category] = lines\n",
    "\n",
    "n_categories = len(all_categories)"
   ]
  },
  {
   "cell_type": "markdown",
   "id": "e58f58a0",
   "metadata": {},
   "source": [
    "Now we have category_lines, a dictionary mapping each category (language) to a list of lines (names). We also kept track of all_categories (just a list of languages) and n_categories for later reference."
   ]
  },
  {
   "cell_type": "code",
   "execution_count": 52,
   "id": "03a992d9",
   "metadata": {},
   "outputs": [
    {
     "name": "stdout",
     "output_type": "stream",
     "text": [
      "['Abandonato', 'Abatangelo', 'Abatantuono', 'Abate', 'Abategiovanni']\n"
     ]
    }
   ],
   "source": [
    "print(category_lines['Italian'][:5])"
   ]
  },
  {
   "cell_type": "markdown",
   "id": "6c219cf0",
   "metadata": {},
   "source": [
    "### Turning Names into Tensors\n",
    "Now that we have all the names organized, we need to turn them into Tensors to make any use of them.\n",
    "\n",
    "To represent a single letter, we use a “one-hot vector” of size <1 x n_letters>. A one-hot vector is filled with 0s except for a 1 at index of the current letter, e.g. \"b\" = <0 1 0 0 0 ...>.\n",
    "\n",
    "To make a word we join a bunch of those into a 2D matrix <line_length x 1 x n_letters>.\n",
    "\n",
    "That extra 1 dimension is because PyTorch assumes everything is in batches - we’re just using a batch size of 1 here."
   ]
  },
  {
   "cell_type": "code",
   "execution_count": 53,
   "id": "c479aae7",
   "metadata": {
    "scrolled": true
   },
   "outputs": [
    {
     "name": "stdout",
     "output_type": "stream",
     "text": [
      "tensor([[0., 0., 0., 0., 0., 0., 0., 0., 0., 0., 0., 0., 0., 0., 0., 0., 0., 0.,\n",
      "         0., 0., 0., 0., 0., 0., 0., 0., 0., 0., 0., 0., 0., 0., 0., 0., 0., 1.,\n",
      "         0., 0., 0., 0., 0., 0., 0., 0., 0., 0., 0., 0., 0., 0., 0., 0., 0., 0.,\n",
      "         0., 0., 0.]])\n",
      "torch.Size([5, 1, 57])\n"
     ]
    }
   ],
   "source": [
    "import torch\n",
    "\n",
    "# Find letter index from all_letters, e.g. \"a\" = 0\n",
    "def letterToIndex(letter):\n",
    "    return all_letters.find(letter)\n",
    "\n",
    "# Just for demonstration, turn a letter into a <1 x n_letters> Tensor\n",
    "def letterToTensor(letter):\n",
    "    tensor = torch.zeros(1, n_letters)\n",
    "    tensor[0][letterToIndex(letter)] = 1\n",
    "    return tensor\n",
    "\n",
    "# Turn a line into a <line_length x 1 x n_letters>,\n",
    "# or an array of one-hot letter vectors\n",
    "def lineToTensor(line):\n",
    "    tensor = torch.zeros(len(line), 1, n_letters)\n",
    "    for li, letter in enumerate(line):\n",
    "        tensor[li][0][letterToIndex(letter)] = 1\n",
    "    return tensor\n",
    "\n",
    "print(letterToTensor('J'))\n",
    "\n",
    "print(lineToTensor('Jones').size())"
   ]
  },
  {
   "cell_type": "markdown",
   "id": "8a979493",
   "metadata": {},
   "source": [
    "### Creating the Network\n",
    "Before autograd, creating a recurrent neural network in Torch involved cloning the parameters of a layer over several timesteps. The layers held hidden state and gradients which are now entirely handled by the graph itself. This means you can implement a RNN in a very “pure” way, as regular feed-forward layers.\n",
    "\n",
    "This RNN module (mostly copied from the PyTorch for Torch users tutorial) is just 2 linear layers which operate on an input and hidden state, with a LogSoftmax layer after the output."
   ]
  },
  {
   "attachments": {
    "rnn.png": {
     "image/png": "[encoded data removed]"
    }
   },
   "cell_type": "markdown",
   "id": "a5802423",
   "metadata": {},
   "source": [
    "![rnn.png](attachment:rnn.png)"
   ]
  },
  {
   "cell_type": "code",
   "execution_count": null,
   "id": "a2294695",
   "metadata": {},
   "outputs": [],
   "source": []
  },
  {
   "cell_type": "code",
   "execution_count": 69,
   "id": "cc618041",
   "metadata": {},
   "outputs": [
    {
     "name": "stdout",
     "output_type": "stream",
     "text": [
      "LSTM(\n",
      "  (blocks): ModuleList(\n",
      "    (0): LSTMBlock(\n",
      "      (forget_gate): Linear(in_features=185, out_features=128, bias=True)\n",
      "      (input_gate): Linear(in_features=185, out_features=128, bias=True)\n",
      "      (cell_update): Linear(in_features=185, out_features=128, bias=True)\n",
      "      (output_gate): Linear(in_features=185, out_features=128, bias=True)\n",
      "    )\n",
      "  )\n",
      "  (classify): Linear(in_features=128, out_features=18, bias=True)\n",
      "  (softmax): LogSoftmax(dim=1)\n",
      ")\n"
     ]
    }
   ],
   "source": [
    "from lstm import LSTM\n",
    "import torch.nn as nn\n",
    "\n",
    "class RNN(nn.Module):\n",
    "    def __init__(self, input_size, hidden_size, output_size):\n",
    "        super(RNN, self).__init__()\n",
    "\n",
    "        self.hidden_size = hidden_size\n",
    "\n",
    "        self.i2h = nn.Linear(input_size + hidden_size, hidden_size)\n",
    "        self.i2o = nn.Linear(input_size + hidden_size, output_size)\n",
    "        self.softmax = nn.LogSoftmax(dim=1)\n",
    "\n",
    "    def forward(self, input, hidden):\n",
    "        combined = torch.cat((input, hidden), 1)\n",
    "        hidden = self.i2h(combined)\n",
    "        output = self.i2o(combined)\n",
    "        output = self.softmax(output)\n",
    "        return output, hidden\n",
    "\n",
    "    def initHidden(self):\n",
    "        return torch.zeros(1, self.hidden_size)\n",
    "\n",
    "n_hidden = 128\n",
    "# rnn = RNN(n_letters, n_hidden, n_categories)\n",
    "rnn = LSTM(n_letters, n_hidden, 1, n_categories)\n",
    "print(rnn)"
   ]
  },
  {
   "cell_type": "markdown",
   "id": "9e1fa5ee",
   "metadata": {},
   "source": [
    "To run a step of this network we need to pass an input (in our case, the Tensor for the current letter) and a previous hidden state (which we initialize as zeros at first). We’ll get back the output (probability of each language) and a next hidden state (which we keep for the next step)."
   ]
  },
  {
   "cell_type": "code",
   "execution_count": 55,
   "id": "b4b9eecb",
   "metadata": {},
   "outputs": [],
   "source": [
    "# LSTM\n",
    "input = letterToTensor('A')\n",
    "input = input.unsqueeze(dim=0)\n",
    "hidden = torch.zeros(1, n_hidden)\n",
    "\n",
    "output = rnn(input)"
   ]
  },
  {
   "cell_type": "markdown",
   "id": "eb17c8f1",
   "metadata": {},
   "source": [
    "For the sake of efficiency we don’t want to be creating a new Tensor for every step, so we will use lineToTensor instead of letterToTensor and use slices. This could be further optimized by pre-computing batches of Tensors."
   ]
  },
  {
   "cell_type": "code",
   "execution_count": 56,
   "id": "b5c2d9ad",
   "metadata": {},
   "outputs": [
    {
     "name": "stdout",
     "output_type": "stream",
     "text": [
      "tensor([[0.0521, 0.0566, 0.0630, 0.0593, 0.0403, 0.0659, 0.0690, 0.0665, 0.0458,\n",
      "         0.0368, 0.0302, 0.0407, 0.0575, 0.0465, 0.0876, 0.0553, 0.0607, 0.0662]],\n",
      "       grad_fn=<ExpBackward0>)\n"
     ]
    }
   ],
   "source": [
    "# LSTM\n",
    "input = lineToTensor('Albert')\n",
    "hidden = torch.zeros(1, n_hidden)\n",
    "\n",
    "output= rnn(input[0].unsqueeze(dim=0))\n",
    "print(torch.exp(output))"
   ]
  },
  {
   "cell_type": "markdown",
   "id": "7cf3d70c",
   "metadata": {},
   "source": [
    "As you can see the output is a <1 x n_categories> Tensor, where every item is the likelihood of that category (higher is more likely)."
   ]
  },
  {
   "cell_type": "markdown",
   "id": "5b07c378",
   "metadata": {},
   "source": [
    "### Preparing for Training\n",
    "Before going into training we should make a few helper functions. The first is to interpret the output of the network, which we know to be a likelihood of each category. We can use Tensor.topk to get the index of the greatest value:"
   ]
  },
  {
   "cell_type": "code",
   "execution_count": 57,
   "id": "0fa90972",
   "metadata": {},
   "outputs": [
    {
     "name": "stdout",
     "output_type": "stream",
     "text": [
      "('Russian', 14)\n"
     ]
    }
   ],
   "source": [
    "def categoryFromOutput(output):\n",
    "    top_n, top_i = output.topk(1)\n",
    "    category_i = top_i[0].item()\n",
    "    return all_categories[category_i], category_i\n",
    "\n",
    "print(categoryFromOutput(output))"
   ]
  },
  {
   "cell_type": "markdown",
   "id": "627e3f73",
   "metadata": {},
   "source": [
    "We will also want a quick way to get a training example (a name and its language):"
   ]
  },
  {
   "cell_type": "code",
   "execution_count": 58,
   "id": "2c3ee352",
   "metadata": {},
   "outputs": [
    {
     "name": "stdout",
     "output_type": "stream",
     "text": [
      "category = English / line = Oloughlin\n",
      "category = Japanese / line = Yoshizaki\n",
      "category = Vietnamese / line = an\n",
      "category = Scottish / line = Wright\n",
      "category = Scottish / line = Thomson\n",
      "category = Japanese / line = Anami\n",
      "category = Arabic / line = Deeb\n",
      "category = French / line = Blaise\n",
      "category = Chinese / line = Zou\n",
      "category = Korean / line = Shim\n"
     ]
    }
   ],
   "source": [
    "import random\n",
    "\n",
    "def randomChoice(l):\n",
    "    return l[random.randint(0, len(l) - 1)]\n",
    "\n",
    "def randomTrainingExample():\n",
    "    category = randomChoice(all_categories)\n",
    "    line = randomChoice(category_lines[category])\n",
    "    category_tensor = torch.tensor([all_categories.index(category)], dtype=torch.long)\n",
    "    line_tensor = lineToTensor(line)\n",
    "    return category, line, category_tensor, line_tensor\n",
    "\n",
    "for i in range(10):\n",
    "    category, line, category_tensor, line_tensor = randomTrainingExample()\n",
    "    print('category =', category, '/ line =', line)"
   ]
  },
  {
   "cell_type": "markdown",
   "id": "c40c4996",
   "metadata": {},
   "source": [
    "### Training the Network\n",
    "Now all it takes to train this network is show it a bunch of examples, have it make guesses, and tell it if it’s wrong.\n",
    "\n",
    "For the loss function nn.NLLLoss is appropriate, since the last layer of the RNN is nn.LogSoftmax."
   ]
  },
  {
   "cell_type": "code",
   "execution_count": 59,
   "id": "122bdeff",
   "metadata": {},
   "outputs": [],
   "source": [
    "criterion = nn.NLLLoss()\n",
    "optimizer = torch.optim.Adam(rnn.parameters(), lr=0.01)"
   ]
  },
  {
   "cell_type": "markdown",
   "id": "e304bb71",
   "metadata": {},
   "source": [
    "Each loop of training will:\n",
    "\n",
    "- Create input and target tensors\n",
    "- Create a zeroed initial hidden state\n",
    "- Read each letter in and keep hidden state for next letter\n",
    "- Compare final output to target\n",
    "- Back-propagate\n",
    "- Return the output and loss"
   ]
  },
  {
   "cell_type": "code",
   "execution_count": 60,
   "id": "602ea715",
   "metadata": {},
   "outputs": [],
   "source": [
    "# LSTM\n",
    "learning_rate = 0.005 # If you set this too high, it might explode. If too low, it might not learn\n",
    "\n",
    "def train(category_tensor, line_tensor):\n",
    "\n",
    "    rnn.zero_grad()\n",
    "\n",
    "    # for i in range(line_tensor.size()[0]):\n",
    "    #     output, hidden = rnn(line_tensor[i], hidden)\n",
    "    output = rnn(line_tensor)\n",
    "\n",
    "    loss = criterion(output, category_tensor)\n",
    "    loss.backward()\n",
    "    optimizer.step()\n",
    "\n",
    "    # Add parameters' gradients to their values, multiplied by learning rate\n",
    "    # for p in rnn.parameters():\n",
    "    #     p.data.add_(p.grad.data, alpha=-learning_rate)\n",
    "\n",
    "    return output, loss.item()"
   ]
  },
  {
   "cell_type": "markdown",
   "id": "eed19e81",
   "metadata": {},
   "source": [
    "Now we just have to run that with a bunch of examples. Since the train function returns both the output and loss we can print its guesses and also keep track of loss for plotting. Since there are 1000s of examples we print only every print_every examples, and take an average of the loss."
   ]
  },
  {
   "cell_type": "code",
   "execution_count": 61,
   "id": "e0dfe2c3",
   "metadata": {},
   "outputs": [
    {
     "name": "stderr",
     "output_type": "stream",
     "text": [
      "[100000/100000]: 100%|██████████| 100000/100000 [16:43<00:00, 99.66it/s, dev_acc=0.787, dev_loss=0.644, loss=0.911]\n"
     ]
    }
   ],
   "source": [
    "import time\n",
    "import math\n",
    "from tqdm import tqdm\n",
    "\n",
    "n_iters = 100000\n",
    "print_every = 5000\n",
    "plot_every = 1000\n",
    "\n",
    "\n",
    "\n",
    "# Keep track of losses for plotting\n",
    "current_loss = 0\n",
    "all_loss = []\n",
    "all_acc = []\n",
    "\n",
    "def timeSince(since):\n",
    "    now = time.time()\n",
    "    s = now - since\n",
    "    m = math.floor(s / 60)\n",
    "    s -= m * 60\n",
    "    return '%dm %ds' % (m, s)\n",
    "\n",
    "start = time.time()\n",
    "\n",
    "loop = tqdm(range(1, n_iters + 1))\n",
    "\n",
    "for iter in loop:\n",
    "    category, line, category_tensor, line_tensor = randomTrainingExample()\n",
    "    output, loss = train(category_tensor, line_tensor)\n",
    "    current_loss += loss\n",
    "    loop.set_description(f'[{iter}/{n_iters}]')\n",
    "    if len(all_acc ) > 0:\n",
    "        loop.set_postfix(loss=current_loss/iter, dev_acc=all_acc[-1], dev_loss=all_loss[-1])\n",
    "    else:\n",
    "        loop.set_postfix(loss=current_loss/iter)\n",
    "\n",
    "    # Add current loss avg to list of losses\n",
    "    if iter % plot_every == 0:\n",
    "        # all_losses.append(current_loss / plot_every)\n",
    "        # current_loss = 0\n",
    "        acc = 0\n",
    "        loss = 0\n",
    "        for i in range(1000):\n",
    "            category, line, category_tensor, line_tensor = randomTrainingExample()\n",
    "            output = rnn(line_tensor)\n",
    "            guess, guess_i = categoryFromOutput(output)\n",
    "            category_i = all_categories.index(category)\n",
    "            acc += (category_i == guess_i)\n",
    "            loss += criterion(output, category_tensor)\n",
    "            \n",
    "        acc /= 1000\n",
    "        loss /= 1000\n",
    "        all_loss.append(loss.item())\n",
    "        all_acc.append(acc)"
   ]
  },
  {
   "cell_type": "markdown",
   "id": "9919c0b4",
   "metadata": {},
   "source": [
    "### Plotting the Results\n",
    "Plotting the historical loss from all_losses shows the network learning:"
   ]
  },
  {
   "cell_type": "code",
   "execution_count": 66,
   "id": "5533ea72",
   "metadata": {},
   "outputs": [
    {
     "data": {
      "text/plain": [
       "<Figure size 432x288 with 0 Axes>"
      ]
     },
     "execution_count": 66,
     "metadata": {},
     "output_type": "execute_result"
    },
    {
     "data": {
      "text/plain": [
       "[<matplotlib.lines.Line2D at 0x22530297c48>]"
      ]
     },
     "execution_count": 66,
     "metadata": {},
     "output_type": "execute_result"
    },
    {
     "data": {
      "text/plain": [
       "<Figure size 432x288 with 0 Axes>"
      ]
     },
     "execution_count": 66,
     "metadata": {},
     "output_type": "execute_result"
    },
    {
     "data": {
      "text/plain": [
       "[<matplotlib.lines.Line2D at 0x225302ddd08>]"
      ]
     },
     "execution_count": 66,
     "metadata": {},
     "output_type": "execute_result"
    },
    {
     "data": {
      "image/png": "[encoded data removed]",
      "text/plain": [
       "<Figure size 432x288 with 1 Axes>"
      ]
     },
     "metadata": {
      "needs_background": "light"
     },
     "output_type": "display_data"
    },
    {
     "data": {
      "image/png": "[encoded data removed]",
      "text/plain": [
       "<Figure size 432x288 with 1 Axes>"
      ]
     },
     "metadata": {
      "needs_background": "light"
     },
     "output_type": "display_data"
    }
   ],
   "source": [
    "import matplotlib.pyplot as plt\n",
    "import matplotlib.ticker as ticker\n",
    "\n",
    "plt.figure()\n",
    "plt.plot(all_loss)\n",
    "plt.figure()\n",
    "plt.plot(all_acc)"
   ]
  },
  {
   "cell_type": "markdown",
   "id": "44d8a092",
   "metadata": {},
   "source": [
    "### Evaluating the Results\n",
    "To see how well the network performs on different categories, we will create a confusion matrix, indicating for every actual language (rows) which language the network guesses (columns). To calculate the confusion matrix a bunch of samples are run through the network with evaluate(), which is the same as train() minus the backprop."
   ]
  },
  {
   "cell_type": "code",
   "execution_count": 67,
   "id": "71e6c595",
   "metadata": {
    "scrolled": true
   },
   "outputs": [
    {
     "name": "stdout",
     "output_type": "stream",
     "text": [
      "tensor(0.7811)\n"
     ]
    },
    {
     "data": {
      "text/plain": [
       "<matplotlib.colorbar.Colorbar at 0x22532329c88>"
      ]
     },
     "execution_count": 67,
     "metadata": {},
     "output_type": "execute_result"
    },
    {
     "name": "stderr",
     "output_type": "stream",
     "text": [
      "d:\\conda\\venv\\DL-CV\\lib\\site-packages\\ipykernel_launcher.py:39: UserWarning: FixedFormatter should only be used together with FixedLocator\n"
     ]
    },
    {
     "data": {
      "text/plain": [
       "[Text(-2.0, 1, ''),\n",
       " Text(0.0, 1, 'Arabic'),\n",
       " Text(2.0, 1, 'Chinese'),\n",
       " Text(4.0, 1, 'Czech'),\n",
       " Text(6.0, 1, 'Dutch'),\n",
       " Text(8.0, 1, 'English'),\n",
       " Text(10.0, 1, 'French'),\n",
       " Text(12.0, 1, 'German'),\n",
       " Text(14.0, 1, 'Greek'),\n",
       " Text(16.0, 1, 'Irish'),\n",
       " Text(18.0, 1, 'Italian')]"
      ]
     },
     "execution_count": 67,
     "metadata": {},
     "output_type": "execute_result"
    },
    {
     "name": "stderr",
     "output_type": "stream",
     "text": [
      "d:\\conda\\venv\\DL-CV\\lib\\site-packages\\ipykernel_launcher.py:40: UserWarning: FixedFormatter should only be used together with FixedLocator\n"
     ]
    },
    {
     "data": {
      "text/plain": [
       "[Text(0, -2.0, ''),\n",
       " Text(0, 0.0, 'Arabic'),\n",
       " Text(0, 2.0, 'Chinese'),\n",
       " Text(0, 4.0, 'Czech'),\n",
       " Text(0, 6.0, 'Dutch'),\n",
       " Text(0, 8.0, 'English'),\n",
       " Text(0, 10.0, 'French'),\n",
       " Text(0, 12.0, 'German'),\n",
       " Text(0, 14.0, 'Greek'),\n",
       " Text(0, 16.0, 'Irish'),\n",
       " Text(0, 18.0, 'Italian')]"
      ]
     },
     "execution_count": 67,
     "metadata": {},
     "output_type": "execute_result"
    },
    {
     "data": {
      "image/png": "[encoded data removed]",
      "text/plain": [
       "<Figure size 432x288 with 2 Axes>"
      ]
     },
     "metadata": {
      "needs_background": "light"
     },
     "output_type": "display_data"
    }
   ],
   "source": [
    "# Keep track of correct guesses in a confusion matrix\n",
    "confusion = torch.zeros(n_categories, n_categories)\n",
    "n_confusion = 10000\n",
    "\n",
    "# Just return an output given a line\n",
    "def evaluate(line_tensor):\n",
    "    # hidden = rnn.initHidden()\n",
    "    #\n",
    "    # for i in range(line_tensor.size()[0]):\n",
    "    #     output, hidden = rnn(line_tensor[i], hidden)\n",
    "\n",
    "    output = rnn(line_tensor)\n",
    "\n",
    "    return output\n",
    "\n",
    "# Go through a bunch of examples and record which are correctly guessed\n",
    "for i in range(n_confusion):\n",
    "    category, line, category_tensor, line_tensor = randomTrainingExample()\n",
    "    output = evaluate(line_tensor)\n",
    "    guess, guess_i = categoryFromOutput(output)\n",
    "    category_i = all_categories.index(category)\n",
    "    confusion[category_i][guess_i] += 1\n",
    "    \n",
    "acc = torch.tensor([confusion[i][i] for i in range(n_categories)]).sum()\n",
    "acc = acc / confusion.sum()\n",
    "print(acc)\n",
    "\n",
    "# Normalize by dividing every row by its sum\n",
    "for i in range(n_categories):\n",
    "    confusion[i] = confusion[i] / confusion[i].sum()\n",
    "\n",
    "# Set up plot\n",
    "fig = plt.figure()\n",
    "ax = fig.add_subplot(111)\n",
    "cax = ax.matshow(confusion.numpy())\n",
    "fig.colorbar(cax)\n",
    "\n",
    "# Set up axes\n",
    "ax.set_xticklabels([''] + all_categories, rotation=90)\n",
    "ax.set_yticklabels([''] + all_categories)\n",
    "\n",
    "# Force label at every tick\n",
    "ax.xaxis.set_major_locator(ticker.MultipleLocator(1))\n",
    "ax.yaxis.set_major_locator(ticker.MultipleLocator(1))\n",
    "\n",
    "# sphinx_gallery_thumbnail_number = 2\n",
    "plt.show()"
   ]
  },
  {
   "cell_type": "markdown",
   "id": "b65115e1",
   "metadata": {},
   "source": [
    "You can pick out bright spots off the main axis that show which languages it guesses incorrectly, e.g. Chinese for Korean, and Spanish for Italian. It seems to do very well with Greek, and very poorly with English (perhaps because of overlap with other languages)."
   ]
  },
  {
   "cell_type": "markdown",
   "id": "dfe1c01e",
   "metadata": {},
   "source": [
    "### Running on User Input"
   ]
  },
  {
   "cell_type": "code",
   "execution_count": 64,
   "id": "23a19ee4",
   "metadata": {},
   "outputs": [
    {
     "name": "stdout",
     "output_type": "stream",
     "text": [
      "\n",
      "> Dovesky\n",
      "(0.97) Russian\n",
      "(0.03) Czech\n",
      "(0.00) English\n",
      "\n",
      "> Jackson\n",
      "(0.70) Scottish\n",
      "(0.19) English\n",
      "(0.10) Russian\n",
      "\n",
      "> Hou\n",
      "(0.99) Chinese\n",
      "(0.01) Korean\n",
      "(0.00) German\n"
     ]
    }
   ],
   "source": [
    "import math\n",
    "import numpy as np\n",
    "\n",
    "def predict(input_line, n_predictions=3):\n",
    "    print('\\n> %s' % input_line)\n",
    "    with torch.no_grad():\n",
    "        output = evaluate(lineToTensor(input_line))\n",
    "\n",
    "        # Get top N categories\n",
    "        topv, topi = output.topk(n_predictions, 1, True)\n",
    "        predictions = []\n",
    "\n",
    "        for i in range(n_predictions):\n",
    "            value = topv[0][i].item()\n",
    "            category_index = topi[0][i].item()\n",
    "            print('(%.2f) %s' % (np.exp(value), all_categories[category_index]))\n",
    "            predictions.append([value, all_categories[category_index]])\n",
    "\n",
    "predict('Dovesky')\n",
    "predict('Jackson')\n",
    "predict('Hou')"
   ]
  },
  {
   "cell_type": "code",
   "execution_count": 65,
   "id": "3a170e12",
   "metadata": {},
   "outputs": [],
   "source": [
    "acc = []"
   ]
  }
 ],
 "metadata": {
  "kernelspec": {
   "display_name": "DL-CV",
   "language": "python",
   "name": "python3"
  },
  "language_info": {
   "codemirror_mode": {
    "name": "ipython",
    "version": 3
   },
   "file_extension": ".py",
   "mimetype": "text/x-python",
   "name": "python",
   "nbconvert_exporter": "python",
   "pygments_lexer": "ipython3",
   "version": "3.7.12"
  },
  "vscode": {
   "interpreter": {
    "hash": "348cc35f0015eae73f43d11e14f6e6688aee7f16ba5d3e117594b6a86f4c7b47"
   }
  }
 },
 "nbformat": 4,
 "nbformat_minor": 5
}
