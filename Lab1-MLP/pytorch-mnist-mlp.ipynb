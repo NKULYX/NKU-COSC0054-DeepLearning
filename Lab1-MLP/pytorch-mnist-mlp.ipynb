{
 "cells": [
  {
   "cell_type": "markdown",
   "metadata": {},
   "source": [
    "# MNIST handwritten digits classification with MLPs\n",
    "\n",
    "In this notebook, we'll train a multi-layer perceptron model to classify MNIST digits using **PyTorch**. \n",
    "\n",
    "First, the needed imports. "
   ]
  },
  {
   "cell_type": "code",
   "execution_count": 29,
   "metadata": {
    "scrolled": true
   },
   "outputs": [
    {
     "name": "stdout",
     "output_type": "stream",
     "text": [
      "Using PyTorch version: 1.12.0+cu113  Device: cuda\n"
     ]
    }
   ],
   "source": [
    "%matplotlib inline\n",
    "\n",
    "import torch\n",
    "import torch.nn as nn\n",
    "import torch.nn.functional as F\n",
    "from torchvision import datasets, transforms\n",
    "\n",
    "import numpy as np\n",
    "import matplotlib.pyplot as plt\n",
    "\n",
    "if torch.cuda.is_available():\n",
    "    device = torch.device('cuda')\n",
    "else:\n",
    "    device = torch.device('cpu')\n",
    "    \n",
    "print('Using PyTorch version:', torch.__version__, ' Device:', device)"
   ]
  },
  {
   "cell_type": "markdown",
   "metadata": {},
   "source": [
    "## Data\n",
    "\n",
    "Next we'll load the MNIST data.  First time we may have to download the data, which can take a while.\n",
    "\n",
    "Note that we are here using the MNIST test data for *validation*, instead of for testing the final model."
   ]
  },
  {
   "cell_type": "code",
   "execution_count": 30,
   "metadata": {},
   "outputs": [],
   "source": [
    "batch_size = 32\n",
    "\n",
    "train_dataset = datasets.MNIST('./data', \n",
    "                               train=True, \n",
    "                               download=True, \n",
    "                               transform=transforms.ToTensor())\n",
    "\n",
    "validation_dataset = datasets.MNIST('./data', \n",
    "                                    train=False, \n",
    "                                    transform=transforms.ToTensor())\n",
    "\n",
    "train_loader = torch.utils.data.DataLoader(dataset=train_dataset, \n",
    "                                           batch_size=batch_size, \n",
    "                                           shuffle=True)\n",
    "\n",
    "validation_loader = torch.utils.data.DataLoader(dataset=validation_dataset, \n",
    "                                                batch_size=batch_size, \n",
    "                                                shuffle=False)"
   ]
  },
  {
   "cell_type": "markdown",
   "metadata": {},
   "source": [
    "The train and test data are provided via data loaders that provide iterators over the datasets. The first element of training data (`X_train`) is a 4th-order tensor of size (`batch_size`, 1, 28, 28), i.e. it consists of a batch of images of size 1x28x28 pixels. `y_train` is a vector containing the correct classes (\"0\", \"1\", ..., \"9\") for each training digit."
   ]
  },
  {
   "cell_type": "code",
   "execution_count": 31,
   "metadata": {},
   "outputs": [
    {
     "name": "stdout",
     "output_type": "stream",
     "text": [
      "X_train: torch.Size([32, 1, 28, 28]) type: torch.FloatTensor\n",
      "y_train: torch.Size([32]) type: torch.LongTensor\n"
     ]
    }
   ],
   "source": [
    "for (X_train, y_train) in train_loader:\n",
    "    print('X_train:', X_train.size(), 'type:', X_train.type())\n",
    "    print('y_train:', y_train.size(), 'type:', y_train.type())\n",
    "    break"
   ]
  },
  {
   "cell_type": "markdown",
   "metadata": {},
   "source": [
    "Here are the first 10 training digits:"
   ]
  },
  {
   "cell_type": "code",
   "execution_count": 32,
   "metadata": {},
   "outputs": [
    {
     "data": {
      "text/plain": [
       "<Figure size 720x72 with 0 Axes>"
      ]
     },
     "execution_count": 32,
     "metadata": {},
     "output_type": "execute_result"
    },
    {
     "data": {
      "text/plain": [
       "<AxesSubplot:>"
      ]
     },
     "execution_count": 32,
     "metadata": {},
     "output_type": "execute_result"
    },
    {
     "data": {
      "text/plain": [
       "(0.0, 1.0, 0.0, 1.0)"
      ]
     },
     "execution_count": 32,
     "metadata": {},
     "output_type": "execute_result"
    },
    {
     "data": {
      "text/plain": [
       "<matplotlib.image.AxesImage at 0x148a527b108>"
      ]
     },
     "execution_count": 32,
     "metadata": {},
     "output_type": "execute_result"
    },
    {
     "data": {
      "text/plain": [
       "Text(0.5, 1.0, 'Class: 9')"
      ]
     },
     "execution_count": 32,
     "metadata": {},
     "output_type": "execute_result"
    },
    {
     "data": {
      "text/plain": [
       "<AxesSubplot:>"
      ]
     },
     "execution_count": 32,
     "metadata": {},
     "output_type": "execute_result"
    },
    {
     "data": {
      "text/plain": [
       "(0.0, 1.0, 0.0, 1.0)"
      ]
     },
     "execution_count": 32,
     "metadata": {},
     "output_type": "execute_result"
    },
    {
     "data": {
      "text/plain": [
       "<matplotlib.image.AxesImage at 0x148b244b3c8>"
      ]
     },
     "execution_count": 32,
     "metadata": {},
     "output_type": "execute_result"
    },
    {
     "data": {
      "text/plain": [
       "Text(0.5, 1.0, 'Class: 8')"
      ]
     },
     "execution_count": 32,
     "metadata": {},
     "output_type": "execute_result"
    },
    {
     "data": {
      "text/plain": [
       "<AxesSubplot:>"
      ]
     },
     "execution_count": 32,
     "metadata": {},
     "output_type": "execute_result"
    },
    {
     "data": {
      "text/plain": [
       "(0.0, 1.0, 0.0, 1.0)"
      ]
     },
     "execution_count": 32,
     "metadata": {},
     "output_type": "execute_result"
    },
    {
     "data": {
      "text/plain": [
       "<matplotlib.image.AxesImage at 0x148a36b6808>"
      ]
     },
     "execution_count": 32,
     "metadata": {},
     "output_type": "execute_result"
    },
    {
     "data": {
      "text/plain": [
       "Text(0.5, 1.0, 'Class: 5')"
      ]
     },
     "execution_count": 32,
     "metadata": {},
     "output_type": "execute_result"
    },
    {
     "data": {
      "text/plain": [
       "<AxesSubplot:>"
      ]
     },
     "execution_count": 32,
     "metadata": {},
     "output_type": "execute_result"
    },
    {
     "data": {
      "text/plain": [
       "(0.0, 1.0, 0.0, 1.0)"
      ]
     },
     "execution_count": 32,
     "metadata": {},
     "output_type": "execute_result"
    },
    {
     "data": {
      "text/plain": [
       "<matplotlib.image.AxesImage at 0x148a363f348>"
      ]
     },
     "execution_count": 32,
     "metadata": {},
     "output_type": "execute_result"
    },
    {
     "data": {
      "text/plain": [
       "Text(0.5, 1.0, 'Class: 1')"
      ]
     },
     "execution_count": 32,
     "metadata": {},
     "output_type": "execute_result"
    },
    {
     "data": {
      "text/plain": [
       "<AxesSubplot:>"
      ]
     },
     "execution_count": 32,
     "metadata": {},
     "output_type": "execute_result"
    },
    {
     "data": {
      "text/plain": [
       "(0.0, 1.0, 0.0, 1.0)"
      ]
     },
     "execution_count": 32,
     "metadata": {},
     "output_type": "execute_result"
    },
    {
     "data": {
      "text/plain": [
       "<matplotlib.image.AxesImage at 0x148a353a3c8>"
      ]
     },
     "execution_count": 32,
     "metadata": {},
     "output_type": "execute_result"
    },
    {
     "data": {
      "text/plain": [
       "Text(0.5, 1.0, 'Class: 3')"
      ]
     },
     "execution_count": 32,
     "metadata": {},
     "output_type": "execute_result"
    },
    {
     "data": {
      "text/plain": [
       "<AxesSubplot:>"
      ]
     },
     "execution_count": 32,
     "metadata": {},
     "output_type": "execute_result"
    },
    {
     "data": {
      "text/plain": [
       "(0.0, 1.0, 0.0, 1.0)"
      ]
     },
     "execution_count": 32,
     "metadata": {},
     "output_type": "execute_result"
    },
    {
     "data": {
      "text/plain": [
       "<matplotlib.image.AxesImage at 0x148a36697c8>"
      ]
     },
     "execution_count": 32,
     "metadata": {},
     "output_type": "execute_result"
    },
    {
     "data": {
      "text/plain": [
       "Text(0.5, 1.0, 'Class: 2')"
      ]
     },
     "execution_count": 32,
     "metadata": {},
     "output_type": "execute_result"
    },
    {
     "data": {
      "text/plain": [
       "<AxesSubplot:>"
      ]
     },
     "execution_count": 32,
     "metadata": {},
     "output_type": "execute_result"
    },
    {
     "data": {
      "text/plain": [
       "(0.0, 1.0, 0.0, 1.0)"
      ]
     },
     "execution_count": 32,
     "metadata": {},
     "output_type": "execute_result"
    },
    {
     "data": {
      "text/plain": [
       "<matplotlib.image.AxesImage at 0x148a35a1388>"
      ]
     },
     "execution_count": 32,
     "metadata": {},
     "output_type": "execute_result"
    },
    {
     "data": {
      "text/plain": [
       "Text(0.5, 1.0, 'Class: 7')"
      ]
     },
     "execution_count": 32,
     "metadata": {},
     "output_type": "execute_result"
    },
    {
     "data": {
      "text/plain": [
       "<AxesSubplot:>"
      ]
     },
     "execution_count": 32,
     "metadata": {},
     "output_type": "execute_result"
    },
    {
     "data": {
      "text/plain": [
       "(0.0, 1.0, 0.0, 1.0)"
      ]
     },
     "execution_count": 32,
     "metadata": {},
     "output_type": "execute_result"
    },
    {
     "data": {
      "text/plain": [
       "<matplotlib.image.AxesImage at 0x148a3691fc8>"
      ]
     },
     "execution_count": 32,
     "metadata": {},
     "output_type": "execute_result"
    },
    {
     "data": {
      "text/plain": [
       "Text(0.5, 1.0, 'Class: 5')"
      ]
     },
     "execution_count": 32,
     "metadata": {},
     "output_type": "execute_result"
    },
    {
     "data": {
      "text/plain": [
       "<AxesSubplot:>"
      ]
     },
     "execution_count": 32,
     "metadata": {},
     "output_type": "execute_result"
    },
    {
     "data": {
      "text/plain": [
       "(0.0, 1.0, 0.0, 1.0)"
      ]
     },
     "execution_count": 32,
     "metadata": {},
     "output_type": "execute_result"
    },
    {
     "data": {
      "text/plain": [
       "<matplotlib.image.AxesImage at 0x148a3680808>"
      ]
     },
     "execution_count": 32,
     "metadata": {},
     "output_type": "execute_result"
    },
    {
     "data": {
      "text/plain": [
       "Text(0.5, 1.0, 'Class: 0')"
      ]
     },
     "execution_count": 32,
     "metadata": {},
     "output_type": "execute_result"
    },
    {
     "data": {
      "text/plain": [
       "<AxesSubplot:>"
      ]
     },
     "execution_count": 32,
     "metadata": {},
     "output_type": "execute_result"
    },
    {
     "data": {
      "text/plain": [
       "(0.0, 1.0, 0.0, 1.0)"
      ]
     },
     "execution_count": 32,
     "metadata": {},
     "output_type": "execute_result"
    },
    {
     "data": {
      "text/plain": [
       "<matplotlib.image.AxesImage at 0x148a3758a48>"
      ]
     },
     "execution_count": 32,
     "metadata": {},
     "output_type": "execute_result"
    },
    {
     "data": {
      "text/plain": [
       "Text(0.5, 1.0, 'Class: 8')"
      ]
     },
     "execution_count": 32,
     "metadata": {},
     "output_type": "execute_result"
    },
    {
     "data": {
      "image/png": "[encoded data removed]",
      "text/plain": [
       "<Figure size 720x72 with 10 Axes>"
      ]
     },
     "metadata": {
      "needs_background": "light"
     },
     "output_type": "display_data"
    }
   ],
   "source": [
    "pltsize=1\n",
    "plt.figure(figsize=(10*pltsize, pltsize))\n",
    "\n",
    "for i in range(10):\n",
    "    plt.subplot(1,10,i+1)\n",
    "    plt.axis('off')\n",
    "    plt.imshow(X_train[i,:,:,:].numpy().reshape(28,28), cmap=\"gray_r\")\n",
    "    plt.title('Class: '+str(y_train[i].item()))"
   ]
  },
  {
   "cell_type": "markdown",
   "metadata": {},
   "source": [
    "## MLP network definition\n",
    "\n",
    "Let's define the network as a Python class.  We have to write the `__init__()` and `forward()` methods, and PyTorch will automatically generate a `backward()` method for computing the gradients for the backward pass.\n",
    "\n",
    "Finally, we define an optimizer to update the model parameters based on the computed gradients.  We select *stochastic gradient descent (with momentum)* as the optimization algorithm, and set *learning rate* to 0.01.  Note that there are [several different options](http://pytorch.org/docs/optim.html#algorithms) for the optimizer in PyTorch that we could use instead of *SGD*."
   ]
  },
  {
   "cell_type": "code",
   "execution_count": 87,
   "metadata": {},
   "outputs": [
    {
     "name": "stdout",
     "output_type": "stream",
     "text": [
      "Net(\n",
      "  (fc1): Linear(in_features=784, out_features=100, bias=True)\n",
      "  (fc1_drop): Dropout(p=0.2, inplace=False)\n",
      "  (fc2): Linear(in_features=100, out_features=80, bias=True)\n",
      "  (fc2_drop): Dropout(p=0.2, inplace=False)\n",
      "  (fc3): Linear(in_features=80, out_features=10, bias=True)\n",
      ")\n"
     ]
    }
   ],
   "source": [
    "class Net(nn.Module):\n",
    "    def __init__(self):\n",
    "        super(Net, self).__init__()\n",
    "        self.fc1 = nn.Linear(28*28, 100)  # weight: [28*28, 50]   bias: [50, ]\n",
    "        self.fc1_drop = nn.Dropout(0.2)\n",
    "        self.fc2 = nn.Linear(100, 80)\n",
    "        self.fc2_drop = nn.Dropout(0.2)\n",
    "        self.fc3 = nn.Linear(80, 10)\n",
    "        \n",
    "#         self.relu1 = nn.ReLU() \n",
    "\n",
    "    def forward(self, x):\n",
    "        x = x.view(-1, 28*28)   # [32, 28*28]\n",
    "        x = F.relu(self.fc1(x))\n",
    "        x = self.fc1_drop(x)\n",
    "        x = F.relu(self.fc2(x))\n",
    "        x = self.fc2_drop(x)   # [32, 10]\n",
    "        return F.log_softmax(self.fc3(x), dim=1)\n",
    "\n",
    "model = Net().to(device)\n",
    "optimizer = torch.optim.SGD(model.parameters(), lr=0.01, momentum=0.5)\n",
    "criterion = nn.CrossEntropyLoss()\n",
    "\n",
    "print(model)"
   ]
  },
  {
   "cell_type": "code",
   "execution_count": 49,
   "metadata": {},
   "outputs": [
    {
     "name": "stdout",
     "output_type": "stream",
     "text": [
      "Net5(\n",
      "  (fc1): Linear(in_features=784, out_features=100, bias=True)\n",
      "  (fc1_drop): Dropout(p=0.2, inplace=False)\n",
      "  (fc2): Linear(in_features=100, out_features=80, bias=True)\n",
      "  (fc2_drop): Dropout(p=0.2, inplace=False)\n",
      "  (fc3): Linear(in_features=80, out_features=60, bias=True)\n",
      "  (fc3_drop): Dropout(p=0.2, inplace=False)\n",
      "  (fc4): Linear(in_features=60, out_features=40, bias=True)\n",
      "  (fc4_drop): Dropout(p=0.2, inplace=False)\n",
      "  (fc5): Linear(in_features=40, out_features=10, bias=True)\n",
      ")\n"
     ]
    }
   ],
   "source": [
    "class Net5(nn.Module):\n",
    "    def __init__(self):\n",
    "        super(Net5, self).__init__()\n",
    "        self.fc1 = nn.Linear(28*28, 100)  # weight: [28*28, 50]   bias: [50, ]\n",
    "        self.fc1_drop = nn.Dropout(0.2)\n",
    "        self.fc2 = nn.Linear(100, 80)\n",
    "        self.fc2_drop = nn.Dropout(0.2)\n",
    "        self.fc3 = nn.Linear(80, 60)\n",
    "        self.fc3_drop = nn.Dropout(0.2)\n",
    "        self.fc4 = nn.Linear(60, 40)\n",
    "        self.fc4_drop = nn.Dropout(0.2)\n",
    "        self.fc5 = nn.Linear(40, 10)\n",
    "        \n",
    "#         self.relu1 = nn.ReLU() \n",
    "\n",
    "    def forward(self, x):\n",
    "        x = x.view(-1, 28*28)   # [32, 28*28]\n",
    "        x = F.relu(self.fc1(x))\n",
    "        x = self.fc1_drop(x)\n",
    "        x = F.relu(self.fc2(x))\n",
    "        x = self.fc2_drop(x)\n",
    "        x = F.relu(self.fc3(x))\n",
    "        x = self.fc3_drop(x)\n",
    "        x = F.relu(self.fc4(x))\n",
    "        x = self.fc4_drop(x)\n",
    "        return F.log_softmax(self.fc5(x), dim=1)\n",
    "    \n",
    "model = Net5().to(device)\n",
    "optimizer = torch.optim.SGD(model.parameters(), lr=0.01, momentum=0.5)\n",
    "criterion = nn.CrossEntropyLoss()\n",
    "\n",
    "print(model)"
   ]
  },
  {
   "cell_type": "code",
   "execution_count": 52,
   "metadata": {},
   "outputs": [
    {
     "name": "stdout",
     "output_type": "stream",
     "text": [
      "Net1(\n",
      "  (fc1): Linear(in_features=784, out_features=100, bias=True)\n",
      "  (fc1_drop): Dropout(p=0.2, inplace=False)\n",
      ")\n"
     ]
    }
   ],
   "source": [
    "class Net1(nn.Module):\n",
    "    def __init__(self):\n",
    "        super(Net1, self).__init__()\n",
    "        self.fc1 = nn.Linear(28*28, 100)  # weight: [28*28, 50]   bias: [50, ]\n",
    "        self.fc1_drop = nn.Dropout(0.2)\n",
    "        \n",
    "#         self.relu1 = nn.ReLU() \n",
    "\n",
    "    def forward(self, x):\n",
    "        x = x.view(-1, 28*28)   # [32, 28*28]\n",
    "        return F.log_softmax(self.fc1(x), dim=1)\n",
    "    \n",
    "model = Net1().to(device)\n",
    "optimizer = torch.optim.SGD(model.parameters(), lr=0.01, momentum=0.5)\n",
    "criterion = nn.CrossEntropyLoss()\n",
    "\n",
    "print(model)"
   ]
  },
  {
   "cell_type": "code",
   "execution_count": 63,
   "metadata": {},
   "outputs": [
    {
     "name": "stdout",
     "output_type": "stream",
     "text": [
      "Net_narrow(\n",
      "  (fc1): Linear(in_features=784, out_features=80, bias=True)\n",
      "  (fc1_drop): Dropout(p=0.2, inplace=False)\n",
      "  (fc2): Linear(in_features=80, out_features=40, bias=True)\n",
      "  (fc2_drop): Dropout(p=0.2, inplace=False)\n",
      "  (fc3): Linear(in_features=40, out_features=10, bias=True)\n",
      ")\n"
     ]
    }
   ],
   "source": [
    "class Net_narrow(nn.Module):\n",
    "    def __init__(self):\n",
    "        super(Net_narrow, self).__init__()\n",
    "        self.fc1 = nn.Linear(28*28, 80)  # weight: [28*28, 50]   bias: [50, ]\n",
    "        self.fc1_drop = nn.Dropout(0.2)\n",
    "        self.fc2 = nn.Linear(80, 40)\n",
    "        self.fc2_drop = nn.Dropout(0.2)\n",
    "        self.fc3 = nn.Linear(40, 10)\n",
    "        \n",
    "#         self.relu1 = nn.ReLU() \n",
    "\n",
    "    def forward(self, x):\n",
    "        x = x.view(-1, 28*28)   # [32, 28*28]\n",
    "        x = F.relu(self.fc1(x))\n",
    "        x = self.fc1_drop(x)\n",
    "        x = F.relu(self.fc2(x))\n",
    "        x = self.fc2_drop(x)   # [32, 10]\n",
    "        return F.log_softmax(self.fc3(x), dim=1)\n",
    "\n",
    "model = Net_narrow().to(device)\n",
    "optimizer = torch.optim.SGD(model.parameters(), lr=0.01, momentum=0.5)\n",
    "criterion = nn.CrossEntropyLoss()\n",
    "\n",
    "print(model)"
   ]
  },
  {
   "cell_type": "code",
   "execution_count": 66,
   "metadata": {},
   "outputs": [
    {
     "name": "stdout",
     "output_type": "stream",
     "text": [
      "Net_wide(\n",
      "  (fc1): Linear(in_features=784, out_features=200, bias=True)\n",
      "  (fc1_drop): Dropout(p=0.2, inplace=False)\n",
      "  (fc2): Linear(in_features=200, out_features=100, bias=True)\n",
      "  (fc2_drop): Dropout(p=0.2, inplace=False)\n",
      "  (fc3): Linear(in_features=100, out_features=10, bias=True)\n",
      ")\n"
     ]
    }
   ],
   "source": [
    "class Net_wide(nn.Module):\n",
    "    def __init__(self):\n",
    "        super(Net_wide, self).__init__()\n",
    "        self.fc1 = nn.Linear(28*28, 200)  # weight: [28*28, 50]   bias: [50, ]\n",
    "        self.fc1_drop = nn.Dropout(0.2)\n",
    "        self.fc2 = nn.Linear(200, 100)\n",
    "        self.fc2_drop = nn.Dropout(0.2)\n",
    "        self.fc3 = nn.Linear(100, 10)\n",
    "        \n",
    "#         self.relu1 = nn.ReLU() \n",
    "\n",
    "    def forward(self, x):\n",
    "        x = x.view(-1, 28*28)   # [32, 28*28]\n",
    "        x = F.relu(self.fc1(x))\n",
    "        x = self.fc1_drop(x)\n",
    "        x = F.relu(self.fc2(x))\n",
    "        x = self.fc2_drop(x)   # [32, 10]\n",
    "        return F.log_softmax(self.fc3(x), dim=1)\n",
    "\n",
    "model = Net_wide().to(device)\n",
    "optimizer = torch.optim.SGD(model.parameters(), lr=0.01, momentum=0.5)\n",
    "criterion = nn.CrossEntropyLoss()\n",
    "\n",
    "print(model)"
   ]
  },
  {
   "cell_type": "markdown",
   "metadata": {},
   "source": [
    "## Learning\n",
    "\n",
    "Let's now define functions to `train()` and `validate()` the model. "
   ]
  },
  {
   "cell_type": "code",
   "execution_count": 34,
   "metadata": {},
   "outputs": [],
   "source": [
    "def train(epoch, log_interval=200):\n",
    "    # Set model to training mode\n",
    "    model.train()\n",
    "    \n",
    "    # Loop over each batch from the training set\n",
    "    for batch_idx, (data, target) in enumerate(train_loader):\n",
    "        # Copy data to GPU if needed\n",
    "        data = data.to(device)\n",
    "        target = target.to(device)\n",
    "\n",
    "        # Zero gradient buffers\n",
    "        optimizer.zero_grad() \n",
    "        \n",
    "        # Pass data through the network\n",
    "        output = model(data)\n",
    "\n",
    "        # Calculate loss\n",
    "        loss = criterion(output, target)\n",
    "\n",
    "        # Backpropagate\n",
    "        loss.backward()  \n",
    "        \n",
    "        # Update weights\n",
    "        optimizer.step()    #  w - alpha * dL / dw\n",
    "        \n",
    "        if batch_idx % log_interval == 0:\n",
    "            print('Train Epoch: {} [{}/{} ({:.0f}%)]\\tLoss: {:.6f}'.format(\n",
    "                epoch, batch_idx * len(data), len(train_loader.dataset),\n",
    "                100. * batch_idx / len(train_loader), loss.data.item()))"
   ]
  },
  {
   "cell_type": "code",
   "execution_count": 35,
   "metadata": {},
   "outputs": [],
   "source": [
    "def validate(loss_vector, accuracy_vector):\n",
    "    model.eval()\n",
    "    val_loss, correct = 0, 0\n",
    "    for data, target in validation_loader:\n",
    "        data = data.to(device)\n",
    "        target = target.to(device)\n",
    "        output = model(data)\n",
    "        val_loss += criterion(output, target).data.item()\n",
    "        pred = output.data.max(1)[1] # get the index of the max log-probability\n",
    "        correct += pred.eq(target.data).cpu().sum()\n",
    "\n",
    "    val_loss /= len(validation_loader)\n",
    "    loss_vector.append(val_loss)\n",
    "\n",
    "    accuracy = 100. * correct.to(torch.float32) / len(validation_loader.dataset)\n",
    "    accuracy_vector.append(accuracy)\n",
    "    \n",
    "    print('\\nValidation set: Average loss: {:.4f}, Accuracy: {}/{} ({:.0f}%)\\n'.format(\n",
    "        val_loss, correct, len(validation_loader.dataset), accuracy))\n"
   ]
  },
  {
   "cell_type": "markdown",
   "metadata": {},
   "source": [
    "Now we are ready to train our model using the `train()` function.  An *epoch* means one pass through the whole training data. After each epoch, we evaluate the model using `validate()`. "
   ]
  },
  {
   "cell_type": "code",
   "execution_count": 76,
   "metadata": {},
   "outputs": [
    {
     "name": "stdout",
     "output_type": "stream",
     "text": [
      "Train Epoch: 1 [0/60000 (0%)]\tLoss: 2.319169\n",
      "Train Epoch: 1 [6400/60000 (11%)]\tLoss: 2.277546\n",
      "Train Epoch: 1 [12800/60000 (21%)]\tLoss: 2.278969\n",
      "Train Epoch: 1 [19200/60000 (32%)]\tLoss: 2.236584\n",
      "Train Epoch: 1 [25600/60000 (43%)]\tLoss: 2.252280\n",
      "Train Epoch: 1 [32000/60000 (53%)]\tLoss: 2.218891\n",
      "Train Epoch: 1 [38400/60000 (64%)]\tLoss: 2.209684\n",
      "Train Epoch: 1 [44800/60000 (75%)]\tLoss: 2.162268\n",
      "Train Epoch: 1 [51200/60000 (85%)]\tLoss: 2.078982\n",
      "Train Epoch: 1 [57600/60000 (96%)]\tLoss: 2.056607\n",
      "\n",
      "Validation set: Average loss: 2.0383, Accuracy: 4184/10000 (42%)\n",
      "\n",
      "Train Epoch: 2 [0/60000 (0%)]\tLoss: 2.094591\n",
      "Train Epoch: 2 [6400/60000 (11%)]\tLoss: 2.052733\n",
      "Train Epoch: 2 [12800/60000 (21%)]\tLoss: 1.895043\n",
      "Train Epoch: 2 [19200/60000 (32%)]\tLoss: 1.770961\n",
      "Train Epoch: 2 [25600/60000 (43%)]\tLoss: 1.795968\n",
      "Train Epoch: 2 [32000/60000 (53%)]\tLoss: 1.625683\n",
      "Train Epoch: 2 [38400/60000 (64%)]\tLoss: 1.642763\n",
      "Train Epoch: 2 [44800/60000 (75%)]\tLoss: 1.402403\n",
      "Train Epoch: 2 [51200/60000 (85%)]\tLoss: 1.492477\n",
      "Train Epoch: 2 [57600/60000 (96%)]\tLoss: 1.502141\n",
      "\n",
      "Validation set: Average loss: 1.2775, Accuracy: 7298/10000 (73%)\n",
      "\n",
      "Train Epoch: 3 [0/60000 (0%)]\tLoss: 1.259258\n",
      "Train Epoch: 3 [6400/60000 (11%)]\tLoss: 1.211033\n",
      "Train Epoch: 3 [12800/60000 (21%)]\tLoss: 1.240009\n",
      "Train Epoch: 3 [19200/60000 (32%)]\tLoss: 1.157649\n",
      "Train Epoch: 3 [25600/60000 (43%)]\tLoss: 1.050626\n",
      "Train Epoch: 3 [32000/60000 (53%)]\tLoss: 0.904553\n",
      "Train Epoch: 3 [38400/60000 (64%)]\tLoss: 1.032504\n",
      "Train Epoch: 3 [44800/60000 (75%)]\tLoss: 0.885519\n",
      "Train Epoch: 3 [51200/60000 (85%)]\tLoss: 0.850438\n",
      "Train Epoch: 3 [57600/60000 (96%)]\tLoss: 0.918223\n",
      "\n",
      "Validation set: Average loss: 0.7532, Accuracy: 8244/10000 (82%)\n",
      "\n",
      "Train Epoch: 4 [0/60000 (0%)]\tLoss: 0.856437\n",
      "Train Epoch: 4 [6400/60000 (11%)]\tLoss: 0.963849\n",
      "Train Epoch: 4 [12800/60000 (21%)]\tLoss: 0.706773\n",
      "Train Epoch: 4 [19200/60000 (32%)]\tLoss: 0.685052\n",
      "Train Epoch: 4 [25600/60000 (43%)]\tLoss: 0.672560\n",
      "Train Epoch: 4 [32000/60000 (53%)]\tLoss: 1.032232\n",
      "Train Epoch: 4 [38400/60000 (64%)]\tLoss: 0.881995\n",
      "Train Epoch: 4 [44800/60000 (75%)]\tLoss: 0.875164\n",
      "Train Epoch: 4 [51200/60000 (85%)]\tLoss: 0.680798\n",
      "Train Epoch: 4 [57600/60000 (96%)]\tLoss: 0.615729\n",
      "\n",
      "Validation set: Average loss: 0.5650, Accuracy: 8558/10000 (86%)\n",
      "\n",
      "Train Epoch: 5 [0/60000 (0%)]\tLoss: 0.720700\n",
      "Train Epoch: 5 [6400/60000 (11%)]\tLoss: 0.671469\n",
      "Train Epoch: 5 [12800/60000 (21%)]\tLoss: 0.744805\n",
      "Train Epoch: 5 [19200/60000 (32%)]\tLoss: 0.628635\n",
      "Train Epoch: 5 [25600/60000 (43%)]\tLoss: 0.674527\n",
      "Train Epoch: 5 [32000/60000 (53%)]\tLoss: 0.569581\n",
      "Train Epoch: 5 [38400/60000 (64%)]\tLoss: 0.730908\n",
      "Train Epoch: 5 [44800/60000 (75%)]\tLoss: 0.630306\n",
      "Train Epoch: 5 [51200/60000 (85%)]\tLoss: 0.427408\n",
      "Train Epoch: 5 [57600/60000 (96%)]\tLoss: 0.953209\n",
      "\n",
      "Validation set: Average loss: 0.4785, Accuracy: 8735/10000 (87%)\n",
      "\n",
      "Train Epoch: 6 [0/60000 (0%)]\tLoss: 0.511856\n",
      "Train Epoch: 6 [6400/60000 (11%)]\tLoss: 0.555488\n",
      "Train Epoch: 6 [12800/60000 (21%)]\tLoss: 0.633057\n",
      "Train Epoch: 6 [19200/60000 (32%)]\tLoss: 0.604202\n",
      "Train Epoch: 6 [25600/60000 (43%)]\tLoss: 1.121678\n",
      "Train Epoch: 6 [32000/60000 (53%)]\tLoss: 0.553346\n",
      "Train Epoch: 6 [38400/60000 (64%)]\tLoss: 0.392177\n",
      "Train Epoch: 6 [44800/60000 (75%)]\tLoss: 0.823840\n",
      "Train Epoch: 6 [51200/60000 (85%)]\tLoss: 0.474397\n",
      "Train Epoch: 6 [57600/60000 (96%)]\tLoss: 0.339624\n",
      "\n",
      "Validation set: Average loss: 0.4283, Accuracy: 8833/10000 (88%)\n",
      "\n",
      "Train Epoch: 7 [0/60000 (0%)]\tLoss: 0.426198\n",
      "Train Epoch: 7 [6400/60000 (11%)]\tLoss: 0.609430\n",
      "Train Epoch: 7 [12800/60000 (21%)]\tLoss: 0.479264\n",
      "Train Epoch: 7 [19200/60000 (32%)]\tLoss: 0.372402\n",
      "Train Epoch: 7 [25600/60000 (43%)]\tLoss: 0.619273\n",
      "Train Epoch: 7 [32000/60000 (53%)]\tLoss: 0.605383\n",
      "Train Epoch: 7 [38400/60000 (64%)]\tLoss: 0.450045\n",
      "Train Epoch: 7 [44800/60000 (75%)]\tLoss: 0.490112\n",
      "Train Epoch: 7 [51200/60000 (85%)]\tLoss: 0.670303\n",
      "Train Epoch: 7 [57600/60000 (96%)]\tLoss: 0.902743\n",
      "\n",
      "Validation set: Average loss: 0.3939, Accuracy: 8932/10000 (89%)\n",
      "\n",
      "Train Epoch: 8 [0/60000 (0%)]\tLoss: 0.557289\n",
      "Train Epoch: 8 [6400/60000 (11%)]\tLoss: 0.363338\n",
      "Train Epoch: 8 [12800/60000 (21%)]\tLoss: 0.370935\n",
      "Train Epoch: 8 [19200/60000 (32%)]\tLoss: 0.390860\n",
      "Train Epoch: 8 [25600/60000 (43%)]\tLoss: 0.449787\n",
      "Train Epoch: 8 [32000/60000 (53%)]\tLoss: 0.430602\n",
      "Train Epoch: 8 [38400/60000 (64%)]\tLoss: 0.714906\n",
      "Train Epoch: 8 [44800/60000 (75%)]\tLoss: 0.543790\n",
      "Train Epoch: 8 [51200/60000 (85%)]\tLoss: 0.257657\n",
      "Train Epoch: 8 [57600/60000 (96%)]\tLoss: 0.473587\n",
      "\n",
      "Validation set: Average loss: 0.3691, Accuracy: 8983/10000 (90%)\n",
      "\n",
      "Train Epoch: 9 [0/60000 (0%)]\tLoss: 0.551107\n",
      "Train Epoch: 9 [6400/60000 (11%)]\tLoss: 0.568100\n",
      "Train Epoch: 9 [12800/60000 (21%)]\tLoss: 0.421132\n",
      "Train Epoch: 9 [19200/60000 (32%)]\tLoss: 0.357194\n",
      "Train Epoch: 9 [25600/60000 (43%)]\tLoss: 0.226244\n",
      "Train Epoch: 9 [32000/60000 (53%)]\tLoss: 0.275059\n",
      "Train Epoch: 9 [38400/60000 (64%)]\tLoss: 0.499152\n",
      "Train Epoch: 9 [44800/60000 (75%)]\tLoss: 0.597748\n",
      "Train Epoch: 9 [51200/60000 (85%)]\tLoss: 0.207932\n",
      "Train Epoch: 9 [57600/60000 (96%)]\tLoss: 0.538024\n",
      "\n",
      "Validation set: Average loss: 0.3487, Accuracy: 9047/10000 (90%)\n",
      "\n",
      "Train Epoch: 10 [0/60000 (0%)]\tLoss: 0.267711\n",
      "Train Epoch: 10 [6400/60000 (11%)]\tLoss: 0.586354\n",
      "Train Epoch: 10 [12800/60000 (21%)]\tLoss: 0.411797\n",
      "Train Epoch: 10 [19200/60000 (32%)]\tLoss: 0.781480\n",
      "Train Epoch: 10 [25600/60000 (43%)]\tLoss: 0.371735\n",
      "Train Epoch: 10 [32000/60000 (53%)]\tLoss: 0.412534\n",
      "Train Epoch: 10 [38400/60000 (64%)]\tLoss: 0.259344\n",
      "Train Epoch: 10 [44800/60000 (75%)]\tLoss: 0.173299\n",
      "Train Epoch: 10 [51200/60000 (85%)]\tLoss: 0.481109\n",
      "Train Epoch: 10 [57600/60000 (96%)]\tLoss: 0.382720\n",
      "\n",
      "Validation set: Average loss: 0.3320, Accuracy: 9081/10000 (91%)\n",
      "\n",
      "Train Epoch: 11 [0/60000 (0%)]\tLoss: 0.400277\n",
      "Train Epoch: 11 [6400/60000 (11%)]\tLoss: 0.807503\n",
      "Train Epoch: 11 [12800/60000 (21%)]\tLoss: 0.521293\n",
      "Train Epoch: 11 [19200/60000 (32%)]\tLoss: 0.274630\n",
      "Train Epoch: 11 [25600/60000 (43%)]\tLoss: 0.230323\n",
      "Train Epoch: 11 [32000/60000 (53%)]\tLoss: 0.347539\n",
      "Train Epoch: 11 [38400/60000 (64%)]\tLoss: 0.242481\n",
      "Train Epoch: 11 [44800/60000 (75%)]\tLoss: 0.315888\n",
      "Train Epoch: 11 [51200/60000 (85%)]\tLoss: 0.270212\n",
      "Train Epoch: 11 [57600/60000 (96%)]\tLoss: 0.355761\n",
      "\n",
      "Validation set: Average loss: 0.3169, Accuracy: 9123/10000 (91%)\n",
      "\n",
      "Train Epoch: 12 [0/60000 (0%)]\tLoss: 0.273057\n",
      "Train Epoch: 12 [6400/60000 (11%)]\tLoss: 0.489480\n",
      "Train Epoch: 12 [12800/60000 (21%)]\tLoss: 0.393178\n",
      "Train Epoch: 12 [19200/60000 (32%)]\tLoss: 0.389092\n",
      "Train Epoch: 12 [25600/60000 (43%)]\tLoss: 0.459355\n",
      "Train Epoch: 12 [32000/60000 (53%)]\tLoss: 0.502847\n",
      "Train Epoch: 12 [38400/60000 (64%)]\tLoss: 0.470690\n",
      "Train Epoch: 12 [44800/60000 (75%)]\tLoss: 0.369308\n",
      "Train Epoch: 12 [51200/60000 (85%)]\tLoss: 0.593298\n",
      "Train Epoch: 12 [57600/60000 (96%)]\tLoss: 0.448565\n",
      "\n",
      "Validation set: Average loss: 0.3050, Accuracy: 9143/10000 (91%)\n",
      "\n",
      "Train Epoch: 13 [0/60000 (0%)]\tLoss: 0.295500\n",
      "Train Epoch: 13 [6400/60000 (11%)]\tLoss: 0.351542\n",
      "Train Epoch: 13 [12800/60000 (21%)]\tLoss: 0.204168\n",
      "Train Epoch: 13 [19200/60000 (32%)]\tLoss: 0.333665\n",
      "Train Epoch: 13 [25600/60000 (43%)]\tLoss: 0.281377\n",
      "Train Epoch: 13 [32000/60000 (53%)]\tLoss: 0.276049\n",
      "Train Epoch: 13 [38400/60000 (64%)]\tLoss: 0.337236\n",
      "Train Epoch: 13 [44800/60000 (75%)]\tLoss: 0.209139\n",
      "Train Epoch: 13 [51200/60000 (85%)]\tLoss: 0.187353\n",
      "Train Epoch: 13 [57600/60000 (96%)]\tLoss: 0.136470\n",
      "\n",
      "Validation set: Average loss: 0.2931, Accuracy: 9171/10000 (92%)\n",
      "\n",
      "Train Epoch: 14 [0/60000 (0%)]\tLoss: 0.554754\n",
      "Train Epoch: 14 [6400/60000 (11%)]\tLoss: 0.415029\n",
      "Train Epoch: 14 [12800/60000 (21%)]\tLoss: 0.564292\n",
      "Train Epoch: 14 [19200/60000 (32%)]\tLoss: 0.373206\n",
      "Train Epoch: 14 [25600/60000 (43%)]\tLoss: 0.502950\n",
      "Train Epoch: 14 [32000/60000 (53%)]\tLoss: 0.255420\n",
      "Train Epoch: 14 [38400/60000 (64%)]\tLoss: 0.436049\n",
      "Train Epoch: 14 [44800/60000 (75%)]\tLoss: 0.212185\n",
      "Train Epoch: 14 [51200/60000 (85%)]\tLoss: 0.289507\n",
      "Train Epoch: 14 [57600/60000 (96%)]\tLoss: 0.342921\n",
      "\n",
      "Validation set: Average loss: 0.2841, Accuracy: 9187/10000 (92%)\n",
      "\n",
      "Train Epoch: 15 [0/60000 (0%)]\tLoss: 0.215282\n",
      "Train Epoch: 15 [6400/60000 (11%)]\tLoss: 0.234108\n",
      "Train Epoch: 15 [12800/60000 (21%)]\tLoss: 0.288644\n",
      "Train Epoch: 15 [19200/60000 (32%)]\tLoss: 0.406755\n",
      "Train Epoch: 15 [25600/60000 (43%)]\tLoss: 0.461208\n",
      "Train Epoch: 15 [32000/60000 (53%)]\tLoss: 0.368575\n",
      "Train Epoch: 15 [38400/60000 (64%)]\tLoss: 0.338316\n",
      "Train Epoch: 15 [44800/60000 (75%)]\tLoss: 0.394178\n",
      "Train Epoch: 15 [51200/60000 (85%)]\tLoss: 0.301451\n",
      "Train Epoch: 15 [57600/60000 (96%)]\tLoss: 0.549838\n",
      "\n",
      "Validation set: Average loss: 0.2740, Accuracy: 9230/10000 (92%)\n",
      "\n",
      "Train Epoch: 16 [0/60000 (0%)]\tLoss: 0.567476\n",
      "Train Epoch: 16 [6400/60000 (11%)]\tLoss: 0.427481\n",
      "Train Epoch: 16 [12800/60000 (21%)]\tLoss: 0.308532\n",
      "Train Epoch: 16 [19200/60000 (32%)]\tLoss: 0.515078\n",
      "Train Epoch: 16 [25600/60000 (43%)]\tLoss: 0.325703\n",
      "Train Epoch: 16 [32000/60000 (53%)]\tLoss: 0.224229\n",
      "Train Epoch: 16 [38400/60000 (64%)]\tLoss: 0.247171\n",
      "Train Epoch: 16 [44800/60000 (75%)]\tLoss: 0.317502\n",
      "Train Epoch: 16 [51200/60000 (85%)]\tLoss: 0.224963\n",
      "Train Epoch: 16 [57600/60000 (96%)]\tLoss: 0.364679\n",
      "\n",
      "Validation set: Average loss: 0.2653, Accuracy: 9252/10000 (93%)\n",
      "\n",
      "Train Epoch: 17 [0/60000 (0%)]\tLoss: 0.235317\n",
      "Train Epoch: 17 [6400/60000 (11%)]\tLoss: 0.321283\n",
      "Train Epoch: 17 [12800/60000 (21%)]\tLoss: 0.313501\n",
      "Train Epoch: 17 [19200/60000 (32%)]\tLoss: 0.251928\n",
      "Train Epoch: 17 [25600/60000 (43%)]\tLoss: 0.359963\n",
      "Train Epoch: 17 [32000/60000 (53%)]\tLoss: 0.165631\n",
      "Train Epoch: 17 [38400/60000 (64%)]\tLoss: 0.421373\n",
      "Train Epoch: 17 [44800/60000 (75%)]\tLoss: 0.409045\n",
      "Train Epoch: 17 [51200/60000 (85%)]\tLoss: 0.627288\n",
      "Train Epoch: 17 [57600/60000 (96%)]\tLoss: 0.519412\n",
      "\n",
      "Validation set: Average loss: 0.2592, Accuracy: 9273/10000 (93%)\n",
      "\n",
      "Train Epoch: 18 [0/60000 (0%)]\tLoss: 0.473077\n",
      "Train Epoch: 18 [6400/60000 (11%)]\tLoss: 0.580550\n",
      "Train Epoch: 18 [12800/60000 (21%)]\tLoss: 0.286105\n",
      "Train Epoch: 18 [19200/60000 (32%)]\tLoss: 0.234237\n",
      "Train Epoch: 18 [25600/60000 (43%)]\tLoss: 0.253387\n",
      "Train Epoch: 18 [32000/60000 (53%)]\tLoss: 0.248906\n",
      "Train Epoch: 18 [38400/60000 (64%)]\tLoss: 0.334763\n",
      "Train Epoch: 18 [44800/60000 (75%)]\tLoss: 0.400378\n",
      "Train Epoch: 18 [51200/60000 (85%)]\tLoss: 0.887706\n",
      "Train Epoch: 18 [57600/60000 (96%)]\tLoss: 0.278336\n",
      "\n",
      "Validation set: Average loss: 0.2504, Accuracy: 9294/10000 (93%)\n",
      "\n",
      "Train Epoch: 19 [0/60000 (0%)]\tLoss: 0.435349\n",
      "Train Epoch: 19 [6400/60000 (11%)]\tLoss: 0.301972\n",
      "Train Epoch: 19 [12800/60000 (21%)]\tLoss: 0.254485\n",
      "Train Epoch: 19 [19200/60000 (32%)]\tLoss: 0.308656\n",
      "Train Epoch: 19 [25600/60000 (43%)]\tLoss: 0.571127\n",
      "Train Epoch: 19 [32000/60000 (53%)]\tLoss: 0.274378\n",
      "Train Epoch: 19 [38400/60000 (64%)]\tLoss: 0.434506\n",
      "Train Epoch: 19 [44800/60000 (75%)]\tLoss: 0.266296\n",
      "Train Epoch: 19 [51200/60000 (85%)]\tLoss: 0.274662\n",
      "Train Epoch: 19 [57600/60000 (96%)]\tLoss: 0.252183\n",
      "\n",
      "Validation set: Average loss: 0.2437, Accuracy: 9316/10000 (93%)\n",
      "\n",
      "Train Epoch: 20 [0/60000 (0%)]\tLoss: 0.357000\n",
      "Train Epoch: 20 [6400/60000 (11%)]\tLoss: 0.277706\n",
      "Train Epoch: 20 [12800/60000 (21%)]\tLoss: 0.192673\n",
      "Train Epoch: 20 [19200/60000 (32%)]\tLoss: 0.113105\n",
      "Train Epoch: 20 [25600/60000 (43%)]\tLoss: 0.332101\n",
      "Train Epoch: 20 [32000/60000 (53%)]\tLoss: 0.178178\n",
      "Train Epoch: 20 [38400/60000 (64%)]\tLoss: 0.419769\n",
      "Train Epoch: 20 [44800/60000 (75%)]\tLoss: 0.165113\n",
      "Train Epoch: 20 [51200/60000 (85%)]\tLoss: 0.279878\n",
      "Train Epoch: 20 [57600/60000 (96%)]\tLoss: 0.326580\n",
      "\n",
      "Validation set: Average loss: 0.2366, Accuracy: 9328/10000 (93%)\n",
      "\n",
      "Wall time: 2min 45s\n"
     ]
    }
   ],
   "source": [
    "%%time\n",
    "epochs = 20\n",
    "\n",
    "lossv, accv = [], []\n",
    "for epoch in range(1, epochs + 1):\n",
    "    train(epoch)\n",
    "    validate(lossv, accv)"
   ]
  },
  {
   "cell_type": "markdown",
   "metadata": {},
   "source": [
    "Let's now visualize how the training progressed. \n",
    "\n",
    "* *Loss* is a function of the difference of the network output and the target values.  We are minimizing the loss function during training so it should decrease over time.\n",
    "* *Accuracy* is the classification accuracy for the test data."
   ]
  },
  {
   "cell_type": "code",
   "execution_count": 38,
   "metadata": {},
   "outputs": [
    {
     "data": {
      "text/plain": [
       "<Figure size 360x216 with 0 Axes>"
      ]
     },
     "execution_count": 38,
     "metadata": {},
     "output_type": "execute_result"
    },
    {
     "data": {
      "text/plain": [
       "[<matplotlib.lines.Line2D at 0x148a5704e08>]"
      ]
     },
     "execution_count": 38,
     "metadata": {},
     "output_type": "execute_result"
    },
    {
     "data": {
      "text/plain": [
       "Text(0.5, 1.0, 'validation loss')"
      ]
     },
     "execution_count": 38,
     "metadata": {},
     "output_type": "execute_result"
    },
    {
     "data": {
      "text/plain": [
       "<Figure size 360x216 with 0 Axes>"
      ]
     },
     "execution_count": 38,
     "metadata": {},
     "output_type": "execute_result"
    },
    {
     "data": {
      "text/plain": [
       "[<matplotlib.lines.Line2D at 0x148a56c8748>]"
      ]
     },
     "execution_count": 38,
     "metadata": {},
     "output_type": "execute_result"
    },
    {
     "data": {
      "text/plain": [
       "Text(0.5, 1.0, 'validation accuracy')"
      ]
     },
     "execution_count": 38,
     "metadata": {},
     "output_type": "execute_result"
    },
    {
     "name": "stdout",
     "output_type": "stream",
     "text": [
      "tensor(97.8100)\n"
     ]
    },
    {
     "data": {
      "image/png": "[encoded data removed]",
      "text/plain": [
       "<Figure size 360x216 with 1 Axes>"
      ]
     },
     "metadata": {
      "needs_background": "light"
     },
     "output_type": "display_data"
    },
    {
     "data": {
      "image/png": "[encoded data removed]",
      "text/plain": [
       "<Figure size 360x216 with 1 Axes>"
      ]
     },
     "metadata": {
      "needs_background": "light"
     },
     "output_type": "display_data"
    }
   ],
   "source": [
    "plt.figure(figsize=(5,3))\n",
    "plt.plot(np.arange(1,epochs+1), lossv)\n",
    "plt.title('validation loss')\n",
    "\n",
    "plt.figure(figsize=(5,3))\n",
    "plt.plot(np.arange(1,epochs+1), accv)\n",
    "plt.title('validation accuracy');\n",
    "\n",
    "print(accv[-1])"
   ]
  },
  {
   "cell_type": "markdown",
   "metadata": {},
   "source": [
    "## Model tuning\n",
    "\n",
    "Modify the MLP model.  Try to improve the classification accuracy, or experiment with the effects of different parameters.  If you are interested in the state-of-the-art performance on permutation invariant MNIST, see e.g. this [recent paper](https://arxiv.org/abs/1507.02672) by Aalto University / The Curious AI Company researchers.\n",
    "\n",
    "You can also consult the PyTorch documentation at http://pytorch.org/."
   ]
  },
  {
   "cell_type": "code",
   "execution_count": 55,
   "metadata": {},
   "outputs": [],
   "source": [
    "accv1 = accv.copy()\n",
    "lossv1 = lossv.copy()"
   ]
  },
  {
   "cell_type": "code",
   "execution_count": 45,
   "metadata": {},
   "outputs": [],
   "source": [
    "accv3 = accv.copy()\n",
    "loss3 = lossv.copy()"
   ]
  },
  {
   "cell_type": "code",
   "execution_count": 51,
   "metadata": {},
   "outputs": [],
   "source": [
    "accv5 = accv.copy()\n",
    "lossv5 = lossv.copy()"
   ]
  },
  {
   "cell_type": "code",
   "execution_count": 65,
   "metadata": {},
   "outputs": [],
   "source": [
    "acc_n = accv.copy()\n",
    "loss_n = lossv.copy()"
   ]
  },
  {
   "cell_type": "code",
   "execution_count": 68,
   "metadata": {},
   "outputs": [],
   "source": [
    "acc_w = accv.copy()\n",
    "loss_w = lossv.copy()"
   ]
  },
  {
   "cell_type": "code",
   "execution_count": 74,
   "metadata": {},
   "outputs": [],
   "source": [
    "acc_01 = accv.copy()\n",
    "loss_01 = lossv.copy()"
   ]
  },
  {
   "cell_type": "code",
   "execution_count": 77,
   "metadata": {},
   "outputs": [
    {
     "data": {
      "image/png": "[encoded data removed]",
      "text/plain": [
       "<Figure size 360x216 with 1 Axes>"
      ]
     },
     "metadata": {
      "needs_background": "light"
     },
     "output_type": "display_data"
    },
    {
     "data": {
      "image/png": "[encoded data removed]",
      "text/plain": [
       "<Figure size 360x216 with 1 Axes>"
      ]
     },
     "metadata": {
      "needs_background": "light"
     },
     "output_type": "display_data"
    }
   ],
   "source": [
    "plt.figure(figsize=(5,3))\n",
    "plt.plot(np.arange(1,epochs+1), loss_01)\n",
    "plt.plot(np.arange(1,epochs+1), loss3)\n",
    "plt.plot(np.arange(1,epochs+1), lossv)\n",
    "plt.legend(['SGD-0.1','SGD-0.01','SGD-0.001'])\n",
    "plt.title('validation loss')\n",
    "\n",
    "plt.figure(figsize=(5,3))\n",
    "plt.plot(np.arange(1,epochs+1), acc_01)\n",
    "plt.plot(np.arange(1,epochs+1), accv3)\n",
    "plt.plot(np.arange(1,epochs+1), accv)\n",
    "plt.legend(['SGD-0.1','SGD-0.01','SGD-0.001'])\n",
    "plt.title('validation accuracy');\n"
   ]
  },
  {
   "attachments": {},
   "cell_type": "markdown",
   "metadata": {},
   "source": [
    "## VIP"
   ]
  },
  {
   "cell_type": "code",
   "execution_count": 89,
   "metadata": {},
   "outputs": [
    {
     "name": "stdout",
     "output_type": "stream",
     "text": [
      "Vip(\n",
      "  (embedding): Conv2d(1, 336, kernel_size=(2, 2), stride=(2, 2))\n",
      "  (encoder): ModuleList(\n",
      "    (0): PermutatorBlock(\n",
      "      (norm1): LayerNorm((336,), eps=1e-05, elementwise_affine=True)\n",
      "      (vip_block): WeightedMLP(\n",
      "        (mlp_c): Linear(in_features=336, out_features=336, bias=False)\n",
      "        (mlp_h): Linear(in_features=336, out_features=336, bias=False)\n",
      "        (mlp_w): Linear(in_features=336, out_features=336, bias=False)\n",
      "        (reweight): Sequential(\n",
      "          (0): Linear(in_features=336, out_features=84, bias=True)\n",
      "          (1): ReLU()\n",
      "          (2): Linear(in_features=84, out_features=1008, bias=True)\n",
      "        )\n",
      "        (out_proj): Linear(in_features=336, out_features=336, bias=True)\n",
      "        (drop): Dropout(p=0.7, inplace=False)\n",
      "      )\n",
      "      (norm2): LayerNorm((336,), eps=1e-05, elementwise_affine=True)\n",
      "      (mlp): Sequential(\n",
      "        (0): Linear(in_features=336, out_features=1344, bias=True)\n",
      "        (1): ReLU()\n",
      "        (2): Linear(in_features=1344, out_features=336, bias=True)\n",
      "      )\n",
      "    )\n",
      "    (1): PermutatorBlock(\n",
      "      (norm1): LayerNorm((336,), eps=1e-05, elementwise_affine=True)\n",
      "      (vip_block): WeightedMLP(\n",
      "        (mlp_c): Linear(in_features=336, out_features=336, bias=False)\n",
      "        (mlp_h): Linear(in_features=336, out_features=336, bias=False)\n",
      "        (mlp_w): Linear(in_features=336, out_features=336, bias=False)\n",
      "        (reweight): Sequential(\n",
      "          (0): Linear(in_features=336, out_features=84, bias=True)\n",
      "          (1): ReLU()\n",
      "          (2): Linear(in_features=84, out_features=1008, bias=True)\n",
      "        )\n",
      "        (out_proj): Linear(in_features=336, out_features=336, bias=True)\n",
      "        (drop): Dropout(p=0.7, inplace=False)\n",
      "      )\n",
      "      (norm2): LayerNorm((336,), eps=1e-05, elementwise_affine=True)\n",
      "      (mlp): Sequential(\n",
      "        (0): Linear(in_features=336, out_features=1344, bias=True)\n",
      "        (1): ReLU()\n",
      "        (2): Linear(in_features=1344, out_features=336, bias=True)\n",
      "      )\n",
      "    )\n",
      "    (2): PermutatorBlock(\n",
      "      (norm1): LayerNorm((336,), eps=1e-05, elementwise_affine=True)\n",
      "      (vip_block): WeightedMLP(\n",
      "        (mlp_c): Linear(in_features=336, out_features=336, bias=False)\n",
      "        (mlp_h): Linear(in_features=336, out_features=336, bias=False)\n",
      "        (mlp_w): Linear(in_features=336, out_features=336, bias=False)\n",
      "        (reweight): Sequential(\n",
      "          (0): Linear(in_features=336, out_features=84, bias=True)\n",
      "          (1): ReLU()\n",
      "          (2): Linear(in_features=84, out_features=1008, bias=True)\n",
      "        )\n",
      "        (out_proj): Linear(in_features=336, out_features=336, bias=True)\n",
      "        (drop): Dropout(p=0.7, inplace=False)\n",
      "      )\n",
      "      (norm2): LayerNorm((336,), eps=1e-05, elementwise_affine=True)\n",
      "      (mlp): Sequential(\n",
      "        (0): Linear(in_features=336, out_features=1344, bias=True)\n",
      "        (1): ReLU()\n",
      "        (2): Linear(in_features=1344, out_features=336, bias=True)\n",
      "      )\n",
      "    )\n",
      "    (3): PermutatorBlock(\n",
      "      (norm1): LayerNorm((336,), eps=1e-05, elementwise_affine=True)\n",
      "      (vip_block): WeightedMLP(\n",
      "        (mlp_c): Linear(in_features=336, out_features=336, bias=False)\n",
      "        (mlp_h): Linear(in_features=336, out_features=336, bias=False)\n",
      "        (mlp_w): Linear(in_features=336, out_features=336, bias=False)\n",
      "        (reweight): Sequential(\n",
      "          (0): Linear(in_features=336, out_features=84, bias=True)\n",
      "          (1): ReLU()\n",
      "          (2): Linear(in_features=84, out_features=1008, bias=True)\n",
      "        )\n",
      "        (out_proj): Linear(in_features=336, out_features=336, bias=True)\n",
      "        (drop): Dropout(p=0.7, inplace=False)\n",
      "      )\n",
      "      (norm2): LayerNorm((336,), eps=1e-05, elementwise_affine=True)\n",
      "      (mlp): Sequential(\n",
      "        (0): Linear(in_features=336, out_features=1344, bias=True)\n",
      "        (1): ReLU()\n",
      "        (2): Linear(in_features=1344, out_features=336, bias=True)\n",
      "      )\n",
      "    )\n",
      "    (4): PermutatorBlock(\n",
      "      (norm1): LayerNorm((336,), eps=1e-05, elementwise_affine=True)\n",
      "      (vip_block): WeightedMLP(\n",
      "        (mlp_c): Linear(in_features=336, out_features=336, bias=False)\n",
      "        (mlp_h): Linear(in_features=336, out_features=336, bias=False)\n",
      "        (mlp_w): Linear(in_features=336, out_features=336, bias=False)\n",
      "        (reweight): Sequential(\n",
      "          (0): Linear(in_features=336, out_features=84, bias=True)\n",
      "          (1): ReLU()\n",
      "          (2): Linear(in_features=84, out_features=1008, bias=True)\n",
      "        )\n",
      "        (out_proj): Linear(in_features=336, out_features=336, bias=True)\n",
      "        (drop): Dropout(p=0.7, inplace=False)\n",
      "      )\n",
      "      (norm2): LayerNorm((336,), eps=1e-05, elementwise_affine=True)\n",
      "      (mlp): Sequential(\n",
      "        (0): Linear(in_features=336, out_features=1344, bias=True)\n",
      "        (1): ReLU()\n",
      "        (2): Linear(in_features=1344, out_features=336, bias=True)\n",
      "      )\n",
      "    )\n",
      "    (5): PermutatorBlock(\n",
      "      (norm1): LayerNorm((336,), eps=1e-05, elementwise_affine=True)\n",
      "      (vip_block): WeightedMLP(\n",
      "        (mlp_c): Linear(in_features=336, out_features=336, bias=False)\n",
      "        (mlp_h): Linear(in_features=336, out_features=336, bias=False)\n",
      "        (mlp_w): Linear(in_features=336, out_features=336, bias=False)\n",
      "        (reweight): Sequential(\n",
      "          (0): Linear(in_features=336, out_features=84, bias=True)\n",
      "          (1): ReLU()\n",
      "          (2): Linear(in_features=84, out_features=1008, bias=True)\n",
      "        )\n",
      "        (out_proj): Linear(in_features=336, out_features=336, bias=True)\n",
      "        (drop): Dropout(p=0.7, inplace=False)\n",
      "      )\n",
      "      (norm2): LayerNorm((336,), eps=1e-05, elementwise_affine=True)\n",
      "      (mlp): Sequential(\n",
      "        (0): Linear(in_features=336, out_features=1344, bias=True)\n",
      "        (1): ReLU()\n",
      "        (2): Linear(in_features=1344, out_features=336, bias=True)\n",
      "      )\n",
      "    )\n",
      "  )\n",
      "  (norm): LayerNorm((336,), eps=1e-05, elementwise_affine=True)\n",
      "  (head): Linear(in_features=336, out_features=10, bias=True)\n",
      ")\n"
     ]
    }
   ],
   "source": [
    "import torch.nn as nn\n",
    "\n",
    "class WeightedMLP(nn.Module):\n",
    "    def __init__(self, dim, qkv_bias=False, dropout=0.7):\n",
    "        super().__init__()\n",
    "        self.mlp_c = nn.Linear(dim, dim, bias=qkv_bias)\n",
    "        self.mlp_h = nn.Linear(dim, dim, bias=qkv_bias)\n",
    "        self.mlp_w = nn.Linear(dim, dim, bias=qkv_bias)\n",
    "        self.reweight = nn.Sequential(nn.Linear(dim, dim//4), nn.ReLU(), nn.Linear(dim//4, dim*3))\n",
    "        self.out_proj = nn.Linear(dim, dim)\n",
    "        self.drop = nn.Dropout(dropout)\n",
    "    \n",
    "    def forward(self, x):\n",
    "        '''\n",
    "        Input:\n",
    "        x :[B, H, W, C]\n",
    "        '''\n",
    "        B, H, W, C = x.shape\n",
    "        num_heads = H\n",
    "        head_dim = C // H\n",
    "        # col-wise\n",
    "        h = x.reshape(B, H, W, num_heads, head_dim).permute(0, 3, 2, 1, 4).reshape(B, num_heads, W, H*head_dim)\n",
    "        h = self.mlp_h(h).reshape(B, num_heads, W, H, head_dim).permute(0, 3, 2, 1, 4).reshape(B, H, W, C)\n",
    "        # row-wise\n",
    "        w = x.reshape(B, H, W, num_heads, head_dim).permute(0, 1, 3, 2, 4).reshape(B, H, num_heads, W*head_dim)\n",
    "        w = self.mlp_w(w).reshape(B, H, num_heads, W, head_dim).permute(0, 1, 3, 2, 4).reshape(B, H, W, C)\n",
    "        # channel-wise\n",
    "        c = self.mlp_c(x)\n",
    "        \n",
    "        a = (h + w + c).permute(0, 3, 1, 2).flatten(2).mean(2)  #keep channel, mean pooling across the whole image, [B, C]\n",
    "        a = self.reweight(a).reshape(B, C, 3).permute(2, 0, 1).softmax(dim=0).unsqueeze(2).unsqueeze(2) #[3, B, 1, 1, C]\n",
    "\n",
    "        x = h * a[0] + w * a[1] + c * a[2]\n",
    "\n",
    "        x = self.out_proj(x)\n",
    "        x = self.drop(x)\n",
    "        return x\n",
    "        \n",
    "class PermutatorBlock(nn.Module):\n",
    "    def __init__(self, dim):\n",
    "        super().__init__()\n",
    "        self.norm1 = nn.LayerNorm(dim)\n",
    "        self.vip_block = WeightedMLP(dim)\n",
    "        self.norm2 = nn.LayerNorm(dim)\n",
    "        self.mlp = nn.Sequential(nn.Linear(dim, dim*4), nn.ReLU(), nn.Linear(dim*4, dim))\n",
    "         \n",
    "    def forward(self, x):\n",
    "        x = self.vip_block(self.norm1(x)) + x\n",
    "        x = self.mlp(self.norm2(x)) + x\n",
    "        return x\n",
    "    \n",
    "class Vip(nn.Module):\n",
    "    def __init__(self, input_size=32, embed_dim=384, patch_size=2, num_layers=6, num_classes=100):\n",
    "        super().__init__()\n",
    "        self.embedding = nn.Conv2d(in_channels=1, \n",
    "                                   out_channels=embed_dim, \n",
    "                                   kernel_size=patch_size, \n",
    "                                   stride=patch_size, \n",
    "                                   )\n",
    "        encoder_list = []\n",
    "        for i in range(num_layers):\n",
    "            encoder_list.append(PermutatorBlock(embed_dim))\n",
    "        self.encoder = nn.ModuleList(encoder_list)\n",
    "        self.norm = nn.LayerNorm(embed_dim)\n",
    "        self.head = nn.Linear(embed_dim, num_classes)\n",
    "\n",
    "    def forward(self, x):\n",
    "        '''\n",
    "        Input:\n",
    "        x: [B, C, H, W]\n",
    "        '''\n",
    "        x = self.embedding(x)\n",
    "        B, C, H, W = x.shape\n",
    "        x = x.permute(0, 2, 3, 1)   #[B, H, W, C]\n",
    "        for module in self.encoder:\n",
    "            x = module(x)\n",
    "        x = self.norm(x)\n",
    "        x = x.reshape((B, H*W, C)).mean(1)  #[B, C]\n",
    "        x = self.head(x)\n",
    "        return x\n",
    "\n",
    "model = Vip(input_size=28, embed_dim=336, num_classes=10).to(device)\n",
    "optimizer = torch.optim.SGD(model.parameters(), lr=0.01, momentum=0.5)\n",
    "criterion = nn.CrossEntropyLoss()\n",
    "\n",
    "print(model)"
   ]
  },
  {
   "cell_type": "code",
   "execution_count": 94,
   "metadata": {},
   "outputs": [
    {
     "name": "stdout",
     "output_type": "stream",
     "text": [
      "Train Epoch: 1 [0/60000 (0%)]\tLoss: 0.006760\n",
      "Train Epoch: 1 [6400/60000 (11%)]\tLoss: 0.016397\n",
      "Train Epoch: 1 [12800/60000 (21%)]\tLoss: 0.008482\n",
      "Train Epoch: 1 [19200/60000 (32%)]\tLoss: 0.049307\n",
      "Train Epoch: 1 [25600/60000 (43%)]\tLoss: 0.085652\n",
      "Train Epoch: 1 [32000/60000 (53%)]\tLoss: 0.051827\n",
      "Train Epoch: 1 [38400/60000 (64%)]\tLoss: 0.055049\n",
      "Train Epoch: 1 [44800/60000 (75%)]\tLoss: 0.020942\n",
      "Train Epoch: 1 [51200/60000 (85%)]\tLoss: 0.033155\n",
      "Train Epoch: 1 [57600/60000 (96%)]\tLoss: 0.029483\n",
      "\n",
      "Validation set: Average loss: 0.1029, Accuracy: 9676/10000 (97%)\n",
      "\n",
      "Train Epoch: 2 [0/60000 (0%)]\tLoss: 0.039842\n",
      "Train Epoch: 2 [6400/60000 (11%)]\tLoss: 0.058726\n",
      "Train Epoch: 2 [12800/60000 (21%)]\tLoss: 0.013027\n",
      "Train Epoch: 2 [19200/60000 (32%)]\tLoss: 0.034108\n",
      "Train Epoch: 2 [25600/60000 (43%)]\tLoss: 0.058880\n",
      "Train Epoch: 2 [32000/60000 (53%)]\tLoss: 0.019766\n",
      "Train Epoch: 2 [38400/60000 (64%)]\tLoss: 0.030645\n",
      "Train Epoch: 2 [44800/60000 (75%)]\tLoss: 0.107236\n",
      "Train Epoch: 2 [51200/60000 (85%)]\tLoss: 0.050633\n",
      "Train Epoch: 2 [57600/60000 (96%)]\tLoss: 0.037811\n",
      "\n",
      "Validation set: Average loss: 0.0812, Accuracy: 9752/10000 (98%)\n",
      "\n",
      "Train Epoch: 3 [0/60000 (0%)]\tLoss: 0.079580\n",
      "Train Epoch: 3 [6400/60000 (11%)]\tLoss: 0.027814\n",
      "Train Epoch: 3 [12800/60000 (21%)]\tLoss: 0.011887\n",
      "Train Epoch: 3 [19200/60000 (32%)]\tLoss: 0.061765\n",
      "Train Epoch: 3 [25600/60000 (43%)]\tLoss: 0.152941\n",
      "Train Epoch: 3 [32000/60000 (53%)]\tLoss: 0.025628\n",
      "Train Epoch: 3 [38400/60000 (64%)]\tLoss: 0.025960\n",
      "Train Epoch: 3 [44800/60000 (75%)]\tLoss: 0.019746\n",
      "Train Epoch: 3 [51200/60000 (85%)]\tLoss: 0.050486\n",
      "Train Epoch: 3 [57600/60000 (96%)]\tLoss: 0.007327\n",
      "\n",
      "Validation set: Average loss: 0.1125, Accuracy: 9660/10000 (97%)\n",
      "\n",
      "Train Epoch: 4 [0/60000 (0%)]\tLoss: 0.024655\n",
      "Train Epoch: 4 [6400/60000 (11%)]\tLoss: 0.057389\n",
      "Train Epoch: 4 [12800/60000 (21%)]\tLoss: 0.020236\n",
      "Train Epoch: 4 [19200/60000 (32%)]\tLoss: 0.022239\n",
      "Train Epoch: 4 [25600/60000 (43%)]\tLoss: 0.058590\n",
      "Train Epoch: 4 [32000/60000 (53%)]\tLoss: 0.012741\n",
      "Train Epoch: 4 [38400/60000 (64%)]\tLoss: 0.033311\n",
      "Train Epoch: 4 [44800/60000 (75%)]\tLoss: 0.013672\n",
      "Train Epoch: 4 [51200/60000 (85%)]\tLoss: 0.037650\n",
      "Train Epoch: 4 [57600/60000 (96%)]\tLoss: 0.157220\n",
      "\n",
      "Validation set: Average loss: 0.0730, Accuracy: 9776/10000 (98%)\n",
      "\n",
      "Train Epoch: 5 [0/60000 (0%)]\tLoss: 0.014061\n",
      "Train Epoch: 5 [6400/60000 (11%)]\tLoss: 0.093267\n",
      "Train Epoch: 5 [12800/60000 (21%)]\tLoss: 0.105974\n",
      "Train Epoch: 5 [19200/60000 (32%)]\tLoss: 0.038510\n",
      "Train Epoch: 5 [25600/60000 (43%)]\tLoss: 0.105981\n",
      "Train Epoch: 5 [32000/60000 (53%)]\tLoss: 0.049863\n",
      "Train Epoch: 5 [38400/60000 (64%)]\tLoss: 0.029002\n",
      "Train Epoch: 5 [44800/60000 (75%)]\tLoss: 0.009788\n",
      "Train Epoch: 5 [51200/60000 (85%)]\tLoss: 0.024385\n",
      "Train Epoch: 5 [57600/60000 (96%)]\tLoss: 0.023300\n",
      "\n",
      "Validation set: Average loss: 0.0803, Accuracy: 9748/10000 (97%)\n",
      "\n",
      "Train Epoch: 6 [0/60000 (0%)]\tLoss: 0.017873\n",
      "Train Epoch: 6 [6400/60000 (11%)]\tLoss: 0.137067\n",
      "Train Epoch: 6 [12800/60000 (21%)]\tLoss: 0.005201\n",
      "Train Epoch: 6 [19200/60000 (32%)]\tLoss: 0.038338\n",
      "Train Epoch: 6 [25600/60000 (43%)]\tLoss: 0.020611\n",
      "Train Epoch: 6 [32000/60000 (53%)]\tLoss: 0.013759\n",
      "Train Epoch: 6 [38400/60000 (64%)]\tLoss: 0.020710\n",
      "Train Epoch: 6 [44800/60000 (75%)]\tLoss: 0.014574\n",
      "Train Epoch: 6 [51200/60000 (85%)]\tLoss: 0.014888\n",
      "Train Epoch: 6 [57600/60000 (96%)]\tLoss: 0.017784\n",
      "\n",
      "Validation set: Average loss: 0.0809, Accuracy: 9757/10000 (98%)\n",
      "\n",
      "Train Epoch: 7 [0/60000 (0%)]\tLoss: 0.085275\n",
      "Train Epoch: 7 [6400/60000 (11%)]\tLoss: 0.056805\n",
      "Train Epoch: 7 [12800/60000 (21%)]\tLoss: 0.022875\n",
      "Train Epoch: 7 [19200/60000 (32%)]\tLoss: 0.051757\n",
      "Train Epoch: 7 [25600/60000 (43%)]\tLoss: 0.020732\n",
      "Train Epoch: 7 [32000/60000 (53%)]\tLoss: 0.030793\n",
      "Train Epoch: 7 [38400/60000 (64%)]\tLoss: 0.005730\n",
      "Train Epoch: 7 [44800/60000 (75%)]\tLoss: 0.055880\n",
      "Train Epoch: 7 [51200/60000 (85%)]\tLoss: 0.002694\n",
      "Train Epoch: 7 [57600/60000 (96%)]\tLoss: 0.063520\n",
      "\n",
      "Validation set: Average loss: 0.0717, Accuracy: 9765/10000 (98%)\n",
      "\n",
      "Train Epoch: 8 [0/60000 (0%)]\tLoss: 0.024471\n",
      "Train Epoch: 8 [6400/60000 (11%)]\tLoss: 0.014500\n",
      "Train Epoch: 8 [12800/60000 (21%)]\tLoss: 0.006891\n",
      "Train Epoch: 8 [19200/60000 (32%)]\tLoss: 0.136834\n",
      "Train Epoch: 8 [25600/60000 (43%)]\tLoss: 0.046751\n",
      "Train Epoch: 8 [32000/60000 (53%)]\tLoss: 0.132507\n",
      "Train Epoch: 8 [38400/60000 (64%)]\tLoss: 0.008445\n",
      "Train Epoch: 8 [44800/60000 (75%)]\tLoss: 0.070284\n",
      "Train Epoch: 8 [51200/60000 (85%)]\tLoss: 0.047020\n",
      "Train Epoch: 8 [57600/60000 (96%)]\tLoss: 0.025947\n",
      "\n",
      "Validation set: Average loss: 0.0694, Accuracy: 9789/10000 (98%)\n",
      "\n",
      "Train Epoch: 9 [0/60000 (0%)]\tLoss: 0.008144\n",
      "Train Epoch: 9 [6400/60000 (11%)]\tLoss: 0.059941\n",
      "Train Epoch: 9 [12800/60000 (21%)]\tLoss: 0.403202\n",
      "Train Epoch: 9 [19200/60000 (32%)]\tLoss: 0.056519\n",
      "Train Epoch: 9 [25600/60000 (43%)]\tLoss: 0.010534\n",
      "Train Epoch: 9 [32000/60000 (53%)]\tLoss: 0.270764\n",
      "Train Epoch: 9 [38400/60000 (64%)]\tLoss: 0.200007\n",
      "Train Epoch: 9 [44800/60000 (75%)]\tLoss: 0.005347\n",
      "Train Epoch: 9 [51200/60000 (85%)]\tLoss: 0.017871\n",
      "Train Epoch: 9 [57600/60000 (96%)]\tLoss: 0.004738\n",
      "\n",
      "Validation set: Average loss: 0.0808, Accuracy: 9756/10000 (98%)\n",
      "\n",
      "Train Epoch: 10 [0/60000 (0%)]\tLoss: 0.053120\n",
      "Train Epoch: 10 [6400/60000 (11%)]\tLoss: 0.061768\n",
      "Train Epoch: 10 [12800/60000 (21%)]\tLoss: 0.025489\n",
      "Train Epoch: 10 [19200/60000 (32%)]\tLoss: 0.138927\n",
      "Train Epoch: 10 [25600/60000 (43%)]\tLoss: 0.016550\n",
      "Train Epoch: 10 [32000/60000 (53%)]\tLoss: 0.039439\n",
      "Train Epoch: 10 [38400/60000 (64%)]\tLoss: 0.057063\n",
      "Train Epoch: 10 [44800/60000 (75%)]\tLoss: 0.036139\n",
      "Train Epoch: 10 [51200/60000 (85%)]\tLoss: 0.052952\n",
      "Train Epoch: 10 [57600/60000 (96%)]\tLoss: 0.013817\n",
      "\n",
      "Validation set: Average loss: 0.0728, Accuracy: 9783/10000 (98%)\n",
      "\n",
      "Wall time: 32min 26s\n"
     ]
    }
   ],
   "source": [
    "\n",
    "%%time\n",
    "epochs = 10\n",
    "\n",
    "for epoch in range(1, epochs + 1):\n",
    "    train(epoch)\n",
    "    validate(lossv, accv)"
   ]
  },
  {
   "cell_type": "code",
   "execution_count": 96,
   "metadata": {},
   "outputs": [
    {
     "name": "stdout",
     "output_type": "stream",
     "text": [
      "[0.33583419733701614, 0.23799605322436404, 0.18895567089137724, 0.15856444671416817, 0.1390421709686238, 0.12416921111758049, 0.11557241283340779, 0.10744171066580864, 0.10046947492508236, 0.094442486050747, 0.09017869695937766, 0.0853716704961245, 0.08157248235020872, 0.08066946538486934, 0.07769856755627311, 0.07705489826308133, 0.07434453265468562, 0.07473824344571314, 0.07109174821166431, 0.07253118674758972]\n",
      "[0.7007762387442512, 0.33947975540789554, 0.2759865917884313, 0.25410475197155924, 0.17880443998645193, 0.17788467638212413, 0.17447383611198194, 0.13290040145744197, 0.11593796653426089, 0.1026591778964923, 0.10285863927796114, 0.08120621327934162, 0.112451051372273, 0.07302626019672709, 0.08026573570981137, 0.08091520716733011, 0.07167387523404962, 0.06943064232770808, 0.08084974786351858, 0.07275625930854697]\n"
     ]
    }
   ],
   "source": [
    "acc_vip = accv.copy()\n",
    "loss_vip = lossv.copy()\n",
    "print(loss3)\n",
    "print(lossv)"
   ]
  },
  {
   "cell_type": "code",
   "execution_count": 98,
   "metadata": {},
   "outputs": [
    {
     "data": {
      "image/png": "[encoded data removed]",
      "text/plain": [
       "<Figure size 360x216 with 1 Axes>"
      ]
     },
     "metadata": {
      "needs_background": "light"
     },
     "output_type": "display_data"
    },
    {
     "data": {
      "image/png": "[encoded data removed]",
      "text/plain": [
       "<Figure size 360x216 with 1 Axes>"
      ]
     },
     "metadata": {
      "needs_background": "light"
     },
     "output_type": "display_data"
    }
   ],
   "source": [
    "plt.figure(figsize=(5,3))\n",
    "epochs=20\n",
    "plt.plot(np.arange(1,epochs+1), loss3)\n",
    "plt.plot(np.arange(1,epochs+1), lossv)\n",
    "plt.legend(['MLP-3','VIP-6'])\n",
    "plt.title('validation loss')\n",
    "\n",
    "plt.figure(figsize=(5,3))\n",
    "plt.plot(np.arange(1,epochs+1), accv3)\n",
    "plt.plot(np.arange(1,epochs+1), accv)\n",
    "plt.legend(['MLP-3','VIP-6'])\n",
    "plt.title('validation accuracy');"
   ]
  }
 ],
 "metadata": {
  "kernelspec": {
   "display_name": "DL-CV",
   "language": "python",
   "name": "python3"
  },
  "language_info": {
   "codemirror_mode": {
    "name": "ipython",
    "version": 3
   },
   "file_extension": ".py",
   "mimetype": "text/x-python",
   "name": "python",
   "nbconvert_exporter": "python",
   "pygments_lexer": "ipython3",
   "version": "3.7.12"
  },
  "vscode": {
   "interpreter": {
    "hash": "348cc35f0015eae73f43d11e14f6e6688aee7f16ba5d3e117594b6a86f4c7b47"
   }
  }
 },
 "nbformat": 4,
 "nbformat_minor": 4
}
